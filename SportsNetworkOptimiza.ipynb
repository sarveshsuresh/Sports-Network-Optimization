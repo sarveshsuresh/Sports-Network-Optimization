{
  "nbformat": 4,
  "nbformat_minor": 0,
  "metadata": {
    "colab": {
      "name": "SportsNetworkOptimiza.ipynb",
      "provenance": [],
      "authorship_tag": "ABX9TyO8zRe92mjmqMvJKP5yWVa1",
      "include_colab_link": true
    },
    "kernelspec": {
      "name": "python3",
      "display_name": "Python 3"
    }
  },
  "cells": [
    {
      "cell_type": "markdown",
      "metadata": {
        "id": "view-in-github",
        "colab_type": "text"
      },
      "source": [
        "<a href=\"https://colab.research.google.com/github/sarveshsuresh/Sports-Network-Optimization/blob/main/SportsNetworkOptimiza.ipynb\" target=\"_parent\"><img src=\"https://colab.research.google.com/assets/colab-badge.svg\" alt=\"Open In Colab\"/></a>"
      ]
    },
    {
      "cell_type": "code",
      "metadata": {
        "id": "ZLJC-2X_x28N"
      },
      "source": [
        "#import the necessary libraries\n",
        "import pandas as pd\n",
        "import numpy as np\n",
        "import matplotlib.pyplot as plt\n",
        "import seaborn as sns\n"
      ],
      "execution_count": 2,
      "outputs": []
    },
    {
      "cell_type": "code",
      "metadata": {
        "id": "Y2wArhe5yHe1"
      },
      "source": [
        "#import the data\n",
        "data=pd.read_csv('/content/Untitled form.csv')"
      ],
      "execution_count": 3,
      "outputs": []
    },
    {
      "cell_type": "code",
      "metadata": {
        "colab": {
          "base_uri": "https://localhost:8080/",
          "height": 488
        },
        "id": "gHnBToiayLB3",
        "outputId": "a6420dec-483c-48e1-d208-1f7693228e8e"
      },
      "source": [
        "data.tail(2)"
      ],
      "execution_count": 4,
      "outputs": [
        {
          "output_type": "execute_result",
          "data": {
            "text/html": [
              "<div>\n",
              "<style scoped>\n",
              "    .dataframe tbody tr th:only-of-type {\n",
              "        vertical-align: middle;\n",
              "    }\n",
              "\n",
              "    .dataframe tbody tr th {\n",
              "        vertical-align: top;\n",
              "    }\n",
              "\n",
              "    .dataframe thead th {\n",
              "        text-align: right;\n",
              "    }\n",
              "</style>\n",
              "<table border=\"1\" class=\"dataframe\">\n",
              "  <thead>\n",
              "    <tr style=\"text-align: right;\">\n",
              "      <th></th>\n",
              "      <th>Timestamp</th>\n",
              "      <th>What is your name?</th>\n",
              "      <th>Gender</th>\n",
              "      <th>Age</th>\n",
              "      <th>Education Level (Highest level pursued)</th>\n",
              "      <th>What is your profession?</th>\n",
              "      <th>How would you describe the place you live?</th>\n",
              "      <th>What is the time taken (in hours, approximately) for your daily commute between home and work?</th>\n",
              "      <th>What is the mode of your daily commute between home and work?</th>\n",
              "      <th>Are either of your parents from a sports background?</th>\n",
              "      <th>If your answer to the previous question was 'Yes', which sport(s) did he/she/they play? (Example: Basketball, Baseball)</th>\n",
              "      <th>Do you have an older sibling(s) who is/are into sports ? (Play or follow passionately)</th>\n",
              "      <th>If your answer to the previous question was 'Yes', which sport(s) does/do he/she/they play? (Example: Basketball, Baseball)</th>\n",
              "      <th>Have you played any sport professionally? (Atleast at an Inter-School level)</th>\n",
              "      <th>If your answer to the previous question was 'Yes', kindly mention the sport(s) you play/played. (Example: Basketball, baseball)</th>\n",
              "      <th>Is there at least one sports facility near the place you live?</th>\n",
              "      <th>If your answer to the previous question was 'Yes', for which sport(s) is the facility available? (Example: Basketball, Baseball)</th>\n",
              "      <th>How far is the given facility from the place you live?( Approximately in kilo meters)</th>\n",
              "      <th>Do you have any long-term health issues that have affected your participation in sports events?</th>\n",
              "      <th>If your answer to the previous question was 'Yes', kindly mention the health issue(s)</th>\n",
              "      <th>Which among these do you watch on the TV? (At least 1 complete match a month) (Can select multiple options)</th>\n",
              "      <th>Kindly mention some of your interests besides sports. (Example: Movies, Music, Debate)</th>\n",
              "      <th>How many Indian Premier League (IPL) matches do you watch in a season?</th>\n",
              "      <th>Do you watch international matches?</th>\n",
              "      <th>Do you watch international matches in which India do not participate?</th>\n",
              "      <th>Which of the following formats do you watch? (Can select multiple options)</th>\n",
              "      <th>How early in the Morning would you wake up for a cricket match?</th>\n",
              "      <th>How late in the Night would you stay up for a cricket match?</th>\n",
              "      <th>Which of these leagues do you watch? (Can select multiple options)</th>\n",
              "      <th>How much of Football do you watch generally? (Of the leagues you selected in the previous question)</th>\n",
              "      <th>How early in the Morning would you wake up for a football match?</th>\n",
              "      <th>How late in the Night would you stay up for a football match?</th>\n",
              "      <th>Which of these Grand slams do you watch? (Can select multiple options)</th>\n",
              "      <th>How much of Grand slam Tennis do you watch?</th>\n",
              "      <th>How early in the Morning would you wake up for a tennis match?</th>\n",
              "      <th>How late in the Night would you stay up for a tennis match?</th>\n",
              "    </tr>\n",
              "  </thead>\n",
              "  <tbody>\n",
              "    <tr>\n",
              "      <th>171</th>\n",
              "      <td>2021/03/05 4:08:59 pm GMT+5:30</td>\n",
              "      <td>Kenneth Cruz</td>\n",
              "      <td>Male</td>\n",
              "      <td>19</td>\n",
              "      <td>Undergraduate</td>\n",
              "      <td>Student</td>\n",
              "      <td>Urban (non-metro)</td>\n",
              "      <td>NaN</td>\n",
              "      <td>Own car, two-wheeler</td>\n",
              "      <td>No</td>\n",
              "      <td>NaN</td>\n",
              "      <td>No</td>\n",
              "      <td>NaN</td>\n",
              "      <td>No</td>\n",
              "      <td>NaN</td>\n",
              "      <td>Yes</td>\n",
              "      <td>Badminton, basketball,squash,tt,</td>\n",
              "      <td>500 m</td>\n",
              "      <td>No</td>\n",
              "      <td>NaN</td>\n",
              "      <td>Cricket</td>\n",
              "      <td>Music</td>\n",
              "      <td>31 to 59</td>\n",
              "      <td>Yes</td>\n",
              "      <td>Yes</td>\n",
              "      <td>T20s and T20is</td>\n",
              "      <td>5 A.M to 6 A.M</td>\n",
              "      <td>As long as it takes! I'll just go sleepless.</td>\n",
              "      <td>NaN</td>\n",
              "      <td>NaN</td>\n",
              "      <td>NaN</td>\n",
              "      <td>NaN</td>\n",
              "      <td>NaN</td>\n",
              "      <td>NaN</td>\n",
              "      <td>NaN</td>\n",
              "      <td>NaN</td>\n",
              "    </tr>\n",
              "    <tr>\n",
              "      <th>172</th>\n",
              "      <td>2021/03/06 10:37:28 am GMT+5:30</td>\n",
              "      <td>Marcus</td>\n",
              "      <td>Male</td>\n",
              "      <td>20</td>\n",
              "      <td>Undergraduate</td>\n",
              "      <td>Student</td>\n",
              "      <td>Urban (non-metro)</td>\n",
              "      <td>1 hour</td>\n",
              "      <td>Public Transport</td>\n",
              "      <td>Yes</td>\n",
              "      <td>athlete</td>\n",
              "      <td>No</td>\n",
              "      <td>Nil</td>\n",
              "      <td>No</td>\n",
              "      <td>nil</td>\n",
              "      <td>No</td>\n",
              "      <td>Nil</td>\n",
              "      <td>nil</td>\n",
              "      <td>No</td>\n",
              "      <td>Nil</td>\n",
              "      <td>Cricket;Football</td>\n",
              "      <td>movies</td>\n",
              "      <td>31 to 59</td>\n",
              "      <td>Yes</td>\n",
              "      <td>Yes</td>\n",
              "      <td>Test cricket;One Day Internationals;T20s and T...</td>\n",
              "      <td>Only after 6</td>\n",
              "      <td>Upto Midnight</td>\n",
              "      <td>Premier League;LaLiga;SerieA;Indian Super League</td>\n",
              "      <td>One or Two matches each week</td>\n",
              "      <td>Only after 6</td>\n",
              "      <td>Upto Midnight</td>\n",
              "      <td>Australian Open;Wimbledon;US Open</td>\n",
              "      <td>Only after the Pre-Quarter-Final or Quarterfin...</td>\n",
              "      <td>Only after 6</td>\n",
              "      <td>Upto Midnight</td>\n",
              "    </tr>\n",
              "  </tbody>\n",
              "</table>\n",
              "</div>"
            ],
            "text/plain": [
              "                           Timestamp  ... How late in the Night would you stay up for a tennis match?\n",
              "171   2021/03/05 4:08:59 pm GMT+5:30  ...                                                NaN         \n",
              "172  2021/03/06 10:37:28 am GMT+5:30  ...                                      Upto Midnight         \n",
              "\n",
              "[2 rows x 36 columns]"
            ]
          },
          "metadata": {
            "tags": []
          },
          "execution_count": 4
        }
      ]
    },
    {
      "cell_type": "code",
      "metadata": {
        "colab": {
          "base_uri": "https://localhost:8080/"
        },
        "id": "prx3h6qMyqSr",
        "outputId": "f344ec03-9ae7-44da-cb1d-4971ccd772ec"
      },
      "source": [
        "#Check the dimensions of the dataset\n",
        "data.shape"
      ],
      "execution_count": 5,
      "outputs": [
        {
          "output_type": "execute_result",
          "data": {
            "text/plain": [
              "(173, 36)"
            ]
          },
          "metadata": {
            "tags": []
          },
          "execution_count": 5
        }
      ]
    },
    {
      "cell_type": "code",
      "metadata": {
        "colab": {
          "base_uri": "https://localhost:8080/",
          "height": 350
        },
        "id": "5gzQJJNUytRo",
        "outputId": "f3801b74-7493-4111-c448-fef1f9e25784"
      },
      "source": [
        "sns.countplot(data['Gender'])\n",
        "# We see that there are more Male respondents than Female respondents."
      ],
      "execution_count": 6,
      "outputs": [
        {
          "output_type": "stream",
          "text": [
            "/usr/local/lib/python3.7/dist-packages/seaborn/_decorators.py:43: FutureWarning: Pass the following variable as a keyword arg: x. From version 0.12, the only valid positional argument will be `data`, and passing other arguments without an explicit keyword will result in an error or misinterpretation.\n",
            "  FutureWarning\n"
          ],
          "name": "stderr"
        },
        {
          "output_type": "execute_result",
          "data": {
            "text/plain": [
              "<matplotlib.axes._subplots.AxesSubplot at 0x7fdae62dfdd0>"
            ]
          },
          "metadata": {
            "tags": []
          },
          "execution_count": 6
        },
        {
          "output_type": "display_data",
          "data": {
            "image/png": "[encoded data removed]",
            "text/plain": [
              "<Figure size 432x288 with 1 Axes>"
            ]
          },
          "metadata": {
            "tags": [],
            "needs_background": "light"
          }
        }
      ]
    },
    {
      "cell_type": "code",
      "metadata": {
        "colab": {
          "base_uri": "https://localhost:8080/"
        },
        "id": "BiVStuwk690G",
        "outputId": "7587d00c-40fa-46f0-df29-78b8bc5692b6"
      },
      "source": [
        "#Check the age variable \n",
        "data['Age'].unique()"
      ],
      "execution_count": 7,
      "outputs": [
        {
          "output_type": "execute_result",
          "data": {
            "text/plain": [
              "array(['59', '29', '22', '21', '20', '24', '28', '19', '47', '25', '55',\n",
              "       '45', '17', '18', '40', '53', '9', '66', '75', '42', '39', '44',\n",
              "       '23', '51', '34', '50 years', '48', '69', '54', '47yrs', '58',\n",
              "       '56', 'Sixty nine', 'Seventy Four years old. ', '46', '52',\n",
              "       '70yrs', '16-17', '14 ', '14', '14yrs', '27', '15', '2o', '33'],\n",
              "      dtype=object)"
            ]
          },
          "metadata": {
            "tags": []
          },
          "execution_count": 7
        }
      ]
    },
    {
      "cell_type": "code",
      "metadata": {
        "id": "nwxwwhOj9xw2"
      },
      "source": [
        "#We extract only the numeric part of the age column\n",
        "data['Age']=data['Age'].str.extract('(\\d+)')"
      ],
      "execution_count": 8,
      "outputs": []
    },
    {
      "cell_type": "code",
      "metadata": {
        "colab": {
          "base_uri": "https://localhost:8080/"
        },
        "id": "Bor9aG-0ADMQ",
        "outputId": "5170cf08-2616-4cf8-c2d8-08ffcdb3bb50"
      },
      "source": [
        "data['Age'].unique()"
      ],
      "execution_count": 9,
      "outputs": [
        {
          "output_type": "execute_result",
          "data": {
            "text/plain": [
              "array(['59', '29', '22', '21', '20', '24', '28', '19', '47', '25', '55',\n",
              "       '45', '17', '18', '40', '53', '9', '66', '75', '42', '39', '44',\n",
              "       '23', '51', '34', '50', '48', '69', '54', '58', '56', nan, '46',\n",
              "       '52', '70', '16', '14', '27', '15', '2', '33'], dtype=object)"
            ]
          },
          "metadata": {
            "tags": []
          },
          "execution_count": 9
        }
      ]
    },
    {
      "cell_type": "code",
      "metadata": {
        "id": "CRmGVfCiAHl_"
      },
      "source": [
        "#Convert the age column into numeric type\n",
        "data['Age']=data['Age'].astype('float')"
      ],
      "execution_count": 10,
      "outputs": []
    },
    {
      "cell_type": "code",
      "metadata": {
        "colab": {
          "base_uri": "https://localhost:8080/"
        },
        "id": "t8n_g7d7AVI9",
        "outputId": "921f1adf-7f3a-4712-b462-98a95b6de82a"
      },
      "source": [
        "#statistical summary of age column\n",
        "data['Age'].describe()"
      ],
      "execution_count": 11,
      "outputs": [
        {
          "output_type": "execute_result",
          "data": {
            "text/plain": [
              "count    171.000000\n",
              "mean      28.660819\n",
              "std       14.505643\n",
              "min        2.000000\n",
              "25%       20.000000\n",
              "50%       21.000000\n",
              "75%       42.000000\n",
              "max       75.000000\n",
              "Name: Age, dtype: float64"
            ]
          },
          "metadata": {
            "tags": []
          },
          "execution_count": 11
        }
      ]
    },
    {
      "cell_type": "code",
      "metadata": {
        "id": "dJ3IxYp-BMVg"
      },
      "source": [
        "#Let us remove the 2 and replace it with the mean, as it is a clear mistake.\n",
        "l=list(np.where(data['Age']==2)[0])\n",
        "for i in l:\n",
        "  data.loc[i,'Age']=21"
      ],
      "execution_count": 12,
      "outputs": []
    },
    {
      "cell_type": "code",
      "metadata": {
        "colab": {
          "base_uri": "https://localhost:8080/"
        },
        "id": "Kq0lsFqHBkqy",
        "outputId": "52777a16-20d1-4b0d-f1ae-1b0c7f0b9665"
      },
      "source": [
        "data['Age'].describe()"
      ],
      "execution_count": 13,
      "outputs": [
        {
          "output_type": "execute_result",
          "data": {
            "text/plain": [
              "count    171.000000\n",
              "mean      28.771930\n",
              "std       14.372381\n",
              "min        9.000000\n",
              "25%       20.000000\n",
              "50%       21.000000\n",
              "75%       42.000000\n",
              "max       75.000000\n",
              "Name: Age, dtype: float64"
            ]
          },
          "metadata": {
            "tags": []
          },
          "execution_count": 13
        }
      ]
    },
    {
      "cell_type": "code",
      "metadata": {
        "colab": {
          "base_uri": "https://localhost:8080/",
          "height": 333
        },
        "id": "g0VgFrCey7MR",
        "outputId": "d758dd8c-9ef7-44f2-b8ee-0bb06544fa74"
      },
      "source": [
        "# Look at the age distribution\n",
        "plt.hist(data['Age'],density=True)\n",
        "#It is positively skewed with peak around 20"
      ],
      "execution_count": 14,
      "outputs": [
        {
          "output_type": "execute_result",
          "data": {
            "text/plain": [
              "(array([0.00797448, 0.08860535, 0.00531632, 0.00620237, 0.00443027,\n",
              "        0.02215134, 0.00797448, 0.00443027, 0.00088605, 0.00354421]),\n",
              " array([ 9. , 15.6, 22.2, 28.8, 35.4, 42. , 48.6, 55.2, 61.8, 68.4, 75. ]),\n",
              " <a list of 10 Patch objects>)"
            ]
          },
          "metadata": {
            "tags": []
          },
          "execution_count": 14
        },
        {
          "output_type": "display_data",
          "data": {
            "image/png": "[encoded data removed]",
            "text/plain": [
              "<Figure size 432x288 with 1 Axes>"
            ]
          },
          "metadata": {
            "tags": [],
            "needs_background": "light"
          }
        }
      ]
    },
    {
      "cell_type": "code",
      "metadata": {
        "colab": {
          "base_uri": "https://localhost:8080/"
        },
        "id": "9zjwBfQnz0C3",
        "outputId": "766d3d94-35d5-4620-f79f-b528bda90ad9"
      },
      "source": [
        "#Look at the education column\n",
        "data['Education Level (Highest level pursued)'].unique()"
      ],
      "execution_count": 15,
      "outputs": [
        {
          "output_type": "execute_result",
          "data": {
            "text/plain": [
              "array(['Doctorate', 'Undergraduate', 'Postgraduate', 'Class 12 or Lower',\n",
              "       'Studying B.E Mech', 'Diploma', nan, 'Chartered accountant',\n",
              "       'Diploma in Electrical Engineering', 'B.D.S  Graduate. ',\n",
              "       'Ug 3rd year*'], dtype=object)"
            ]
          },
          "metadata": {
            "tags": []
          },
          "execution_count": 15
        }
      ]
    },
    {
      "cell_type": "code",
      "metadata": {
        "id": "WiY420B830_G"
      },
      "source": [
        "# Let us clean the education column.\n",
        "l=list(np.where(data['Education Level (Highest level pursued)']=='Studying B.E Mech')[0])\n",
        "for i in l:\n",
        "  data.loc[i,'Education Level (Highest level pursued)']='Undergraduate'\n",
        "l=list(np.where(data['Education Level (Highest level pursued)']=='Diploma in Electrical Engineering')[0])\n",
        "for i in l:\n",
        "  data.loc[i,'Education Level (Highest level pursued)']='Diploma'\n",
        "l=list(np.where(data['Education Level (Highest level pursued)']=='B.D.S  Graduate. ')[0])\n",
        "for i in l:\n",
        "  data.loc[i,'Education Level (Highest level pursued)']='Undergraduate'\n",
        "l=list(np.where(data['Education Level (Highest level pursued)']=='Ug 3rd year*')[0])\n",
        "for i in l:\n",
        "  data.loc[i,'Education Level (Highest level pursued)']='Undergraduate'"
      ],
      "execution_count": 16,
      "outputs": []
    },
    {
      "cell_type": "code",
      "metadata": {
        "colab": {
          "base_uri": "https://localhost:8080/"
        },
        "id": "reph5Tz0CCGD",
        "outputId": "54c488d6-97fb-43d4-8293-2cd4064b9cda"
      },
      "source": [
        "data['Education Level (Highest level pursued)'].unique()"
      ],
      "execution_count": 17,
      "outputs": [
        {
          "output_type": "execute_result",
          "data": {
            "text/plain": [
              "array(['Doctorate', 'Undergraduate', 'Postgraduate', 'Class 12 or Lower',\n",
              "       'Diploma', nan, 'Chartered accountant'], dtype=object)"
            ]
          },
          "metadata": {
            "tags": []
          },
          "execution_count": 17
        }
      ]
    },
    {
      "cell_type": "code",
      "metadata": {
        "colab": {
          "base_uri": "https://localhost:8080/"
        },
        "id": "Prp8Dmq70AfO",
        "outputId": "85c5b774-4b6d-4f10-aab1-b008de709ee9"
      },
      "source": [
        "#Look at the profession column\n",
        "data['What is your profession?'].unique()"
      ],
      "execution_count": 18,
      "outputs": [
        {
          "output_type": "execute_result",
          "data": {
            "text/plain": [
              "array(['Teaching profession', 'Student', 'Data analyst', 'Home maker',\n",
              "       'Doctor', 'Self-Employed', 'Engineer', 'Private', 'Government',\n",
              "       'IT', 'HR', 'Pvt sector', 'Teacher ', 'Salaried', 'Accountant ',\n",
              "       'prostitution company owner', 'Developer ', 'Developer',\n",
              "       'Employed', 'BPO', 'General Manager', 'State Govt pensioner',\n",
              "       'Athlete (Any sport)', 'House wife', 'IT professional', 'Defence ',\n",
              "       'HOME-MAKER'], dtype=object)"
            ]
          },
          "metadata": {
            "tags": []
          },
          "execution_count": 18
        }
      ]
    },
    {
      "cell_type": "code",
      "metadata": {
        "colab": {
          "base_uri": "https://localhost:8080/"
        },
        "id": "QIrXL2yjC753",
        "outputId": "81a3be81-332c-4317-e52f-5fd564a08d93"
      },
      "source": [
        "#summary of the profession column\n",
        "data['What is your profession?'].describe()"
      ],
      "execution_count": 19,
      "outputs": [
        {
          "output_type": "execute_result",
          "data": {
            "text/plain": [
              "count         173\n",
              "unique         27\n",
              "top       Student\n",
              "freq           98\n",
              "Name: What is your profession?, dtype: object"
            ]
          },
          "metadata": {
            "tags": []
          },
          "execution_count": 19
        }
      ]
    },
    {
      "cell_type": "code",
      "metadata": {
        "colab": {
          "base_uri": "https://localhost:8080/"
        },
        "id": "90osVimUDDZ5",
        "outputId": "e0f800c0-f803-4edb-eafb-685b794617e8"
      },
      "source": [
        "#Look at the Area column\n",
        "data['How would you describe the place you live?'].unique()"
      ],
      "execution_count": 20,
      "outputs": [
        {
          "output_type": "execute_result",
          "data": {
            "text/plain": [
              "array(['Metropolitan', 'Urban (non-metro)', 'Semi-Urban', 'Rural'],\n",
              "      dtype=object)"
            ]
          },
          "metadata": {
            "tags": []
          },
          "execution_count": 20
        }
      ]
    },
    {
      "cell_type": "code",
      "metadata": {
        "colab": {
          "base_uri": "https://localhost:8080/"
        },
        "id": "8W6b5RTKDgK-",
        "outputId": "8ea009e8-cf4d-4fea-c237-13579a727dda"
      },
      "source": [
        "#summary of Area column\n",
        "data['How would you describe the place you live?'].describe()"
      ],
      "execution_count": 21,
      "outputs": [
        {
          "output_type": "execute_result",
          "data": {
            "text/plain": [
              "count              173\n",
              "unique               4\n",
              "top       Metropolitan\n",
              "freq               115\n",
              "Name: How would you describe the place you live?, dtype: object"
            ]
          },
          "metadata": {
            "tags": []
          },
          "execution_count": 21
        }
      ]
    },
    {
      "cell_type": "code",
      "metadata": {
        "colab": {
          "base_uri": "https://localhost:8080/",
          "height": 353
        },
        "id": "KWLPTH1OJdho",
        "outputId": "3ac31eda-e1ad-4151-dd7d-847b9a984411"
      },
      "source": [
        "#Graphical representation of Area of living.\n",
        "sns.countplot(data['How would you describe the place you live?'])"
      ],
      "execution_count": 22,
      "outputs": [
        {
          "output_type": "stream",
          "text": [
            "/usr/local/lib/python3.7/dist-packages/seaborn/_decorators.py:43: FutureWarning: Pass the following variable as a keyword arg: x. From version 0.12, the only valid positional argument will be `data`, and passing other arguments without an explicit keyword will result in an error or misinterpretation.\n",
            "  FutureWarning\n"
          ],
          "name": "stderr"
        },
        {
          "output_type": "execute_result",
          "data": {
            "text/plain": [
              "<matplotlib.axes._subplots.AxesSubplot at 0x7fdae519d5d0>"
            ]
          },
          "metadata": {
            "tags": []
          },
          "execution_count": 22
        },
        {
          "output_type": "display_data",
          "data": {
            "image/png": "[encoded data removed]",
            "text/plain": [
              "<Figure size 432x288 with 1 Axes>"
            ]
          },
          "metadata": {
            "tags": [],
            "needs_background": "light"
          }
        }
      ]
    },
    {
      "cell_type": "code",
      "metadata": {
        "colab": {
          "base_uri": "https://localhost:8080/"
        },
        "id": "0P3E2JPQEAqi",
        "outputId": "8249929e-b09b-426f-e514-ea949018c64d"
      },
      "source": [
        "#Look at the commute time column\n",
        "data['What is the time taken (in hours, approximately) for your daily commute between home and work?'].unique()"
      ],
      "execution_count": 23,
      "outputs": [
        {
          "output_type": "execute_result",
          "data": {
            "text/plain": [
              "array(['1 hour', '1.5', nan, '1 Hour', '1', '2', '0.5', '20 minutes',\n",
              "       '0.5 hrs', '30', '1 hour or so', '4 hours', '3', '30 minutes ',\n",
              "       '2 hours( pre - covid scenario) ', '2 hrs', '0.75', '60mins',\n",
              "       '10 minutes ', '1 ', '40 mins', '5-6', 'Half an hour ',\n",
              "       '1hr 20 min', '1hr', '1.5 hours', '1:30 mins', 'An hour or so',\n",
              "       '10 mnts', '45 min', '15 minutes', '30 mins', '2H0UURS',\n",
              "       'I stay in a hostel on a highway 🤷\\u200d♀️', '8hrs', '3 hrs',\n",
              "       'Around 10-15mins ', '15 minutes ', '0', '1/2 hour', '8 hrs',\n",
              "       '1 hr', '10 hours', '8 hours', '5 hrs', '30 min', '8hrs ',\n",
              "       '30mins(College)', '69', '2 hours', '20 mins', '15mins', '2 ',\n",
              "       '20 minutes ', '45 mins', '30 minutes', '3 minutes', '10 minutes',\n",
              "       '20 Mins', 'No commute', '2-3 hours', '20min.', 'Two hours',\n",
              "       '10 mins', 'Ten minutes. ', '30mins', 'Few minutes ', '1 hr ',\n",
              "       '8-9hrs', '6', '30min', '20 mins ', '10 min', 'Na', 'Ten minutes ',\n",
              "       'an hour in total', 'Half an hour', '1/30 hours', '15minutes',\n",
              "       '0.2 Hours', '0.25 hours', 'Bike', '1 or 2 hours', '40 minutes ',\n",
              "       '15-30 mins'], dtype=object)"
            ]
          },
          "metadata": {
            "tags": []
          },
          "execution_count": 23
        }
      ]
    },
    {
      "cell_type": "code",
      "metadata": {
        "id": "rXEQspOtEz5o"
      },
      "source": [
        "#Extract only the numbers from the commute time column\n",
        "data['What is the time taken (in hours, approximately) for your daily commute between home and work?']=data['What is the time taken (in hours, approximately) for your daily commute between home and work?'].str.extract('(\\d+)')"
      ],
      "execution_count": 24,
      "outputs": []
    },
    {
      "cell_type": "code",
      "metadata": {
        "colab": {
          "base_uri": "https://localhost:8080/"
        },
        "id": "BfgpXpiqFC7X",
        "outputId": "e0a0935a-597c-4ff1-9f48-5f96db9c595c"
      },
      "source": [
        "data['What is the time taken (in hours, approximately) for your daily commute between home and work?'].unique()"
      ],
      "execution_count": 25,
      "outputs": [
        {
          "output_type": "execute_result",
          "data": {
            "text/plain": [
              "array(['1', nan, '2', '0', '20', '30', '4', '3', '60', '10', '40', '5',\n",
              "       '45', '15', '8', '69', '6'], dtype=object)"
            ]
          },
          "metadata": {
            "tags": []
          },
          "execution_count": 25
        }
      ]
    },
    {
      "cell_type": "code",
      "metadata": {
        "id": "G4LPzB5QF__j"
      },
      "source": [
        "#change the column type to numeric (commute time)\n",
        "data['What is the time taken (in hours, approximately) for your daily commute between home and work?']=data['What is the time taken (in hours, approximately) for your daily commute between home and work?'].astype('float')"
      ],
      "execution_count": 26,
      "outputs": []
    },
    {
      "cell_type": "code",
      "metadata": {
        "id": "mLEeMtEbGj28"
      },
      "source": [
        "# Clean the commute time column for unsual values\n",
        "l=list(np.where(data['What is the time taken (in hours, approximately) for your daily commute between home and work?']>=5)[0])\n",
        "for i in l:\n",
        "  k=float(data.loc[i,'What is the time taken (in hours, approximately) for your daily commute between home and work?'])\n",
        "  data.loc[i,'What is the time taken (in hours, approximately) for your daily commute between home and work?']=k/60"
      ],
      "execution_count": 27,
      "outputs": []
    },
    {
      "cell_type": "code",
      "metadata": {
        "colab": {
          "base_uri": "https://localhost:8080/"
        },
        "id": "UgQCbo_ZIG0w",
        "outputId": "ffe89b24-142c-4a25-c114-5af8b8521c05"
      },
      "source": [
        "#summary of commute time column\n",
        "data['What is the time taken (in hours, approximately) for your daily commute between home and work?'].describe()"
      ],
      "execution_count": 28,
      "outputs": [
        {
          "output_type": "execute_result",
          "data": {
            "text/plain": [
              "count    141.000000\n",
              "mean       0.803310\n",
              "std        0.734107\n",
              "min        0.000000\n",
              "25%        0.166667\n",
              "50%        0.750000\n",
              "75%        1.000000\n",
              "max        4.000000\n",
              "Name: What is the time taken (in hours, approximately) for your daily commute between home and work?, dtype: float64"
            ]
          },
          "metadata": {
            "tags": []
          },
          "execution_count": 28
        }
      ]
    },
    {
      "cell_type": "code",
      "metadata": {
        "colab": {
          "base_uri": "https://localhost:8080/",
          "height": 316
        },
        "id": "4iFNrMAkJAuJ",
        "outputId": "2c94d040-f7c5-4359-a09c-0e3f2b48972e"
      },
      "source": [
        "#Distribution of commute time\n",
        "plt.hist(data['What is the time taken (in hours, approximately) for your daily commute between home and work?'])"
      ],
      "execution_count": 29,
      "outputs": [
        {
          "output_type": "execute_result",
          "data": {
            "text/plain": [
              "(array([50., 21., 53.,  0.,  0., 11.,  0.,  5.,  0.,  1.]),\n",
              " array([0. , 0.4, 0.8, 1.2, 1.6, 2. , 2.4, 2.8, 3.2, 3.6, 4. ]),\n",
              " <a list of 10 Patch objects>)"
            ]
          },
          "metadata": {
            "tags": []
          },
          "execution_count": 29
        },
        {
          "output_type": "display_data",
          "data": {
            "image/png": "[encoded data removed]",
            "text/plain": [
              "<Figure size 432x288 with 1 Axes>"
            ]
          },
          "metadata": {
            "tags": [],
            "needs_background": "light"
          }
        }
      ]
    },
    {
      "cell_type": "code",
      "metadata": {
        "colab": {
          "base_uri": "https://localhost:8080/"
        },
        "id": "c7MkWCP2I3BA",
        "outputId": "b80fc8a6-e6fb-490e-b744-5f8a1b1670f7"
      },
      "source": [
        "#Look at commute mode column\n",
        "data['What is the mode of your daily commute between home and work?'].unique()"
      ],
      "execution_count": 30,
      "outputs": [
        {
          "output_type": "execute_result",
          "data": {
            "text/plain": [
              "array(['Own car, two-wheeler', 'Walk', 'Public Transport', nan,\n",
              "       'Auto rickshaw/ Cab', 'Bicycle'], dtype=object)"
            ]
          },
          "metadata": {
            "tags": []
          },
          "execution_count": 30
        }
      ]
    },
    {
      "cell_type": "code",
      "metadata": {
        "colab": {
          "base_uri": "https://localhost:8080/"
        },
        "id": "LbuDOLJJJZ8r",
        "outputId": "2678659e-9f35-4be8-bd8c-8544925a2ee3"
      },
      "source": [
        "#summary of commute mode column\n",
        "data['What is the mode of your daily commute between home and work?'].describe()"
      ],
      "execution_count": 31,
      "outputs": [
        {
          "output_type": "execute_result",
          "data": {
            "text/plain": [
              "count                      160\n",
              "unique                       5\n",
              "top       Own car, two-wheeler\n",
              "freq                        84\n",
              "Name: What is the mode of your daily commute between home and work?, dtype: object"
            ]
          },
          "metadata": {
            "tags": []
          },
          "execution_count": 31
        }
      ]
    },
    {
      "cell_type": "code",
      "metadata": {
        "colab": {
          "base_uri": "https://localhost:8080/",
          "height": 350
        },
        "id": "EghJm_fTJ2Za",
        "outputId": "7b3f024e-eaba-4b35-a141-c143fceef14e"
      },
      "source": [
        "#graphical representation of commute modes\n",
        "sns.countplot(data['What is the mode of your daily commute between home and work?'])"
      ],
      "execution_count": 32,
      "outputs": [
        {
          "output_type": "stream",
          "text": [
            "/usr/local/lib/python3.7/dist-packages/seaborn/_decorators.py:43: FutureWarning: Pass the following variable as a keyword arg: x. From version 0.12, the only valid positional argument will be `data`, and passing other arguments without an explicit keyword will result in an error or misinterpretation.\n",
            "  FutureWarning\n"
          ],
          "name": "stderr"
        },
        {
          "output_type": "execute_result",
          "data": {
            "text/plain": [
              "<matplotlib.axes._subplots.AxesSubplot at 0x7fdae50a6410>"
            ]
          },
          "metadata": {
            "tags": []
          },
          "execution_count": 32
        },
        {
          "output_type": "display_data",
          "data": {
            "image/png": "[encoded data removed]",
            "text/plain": [
              "<Figure size 432x288 with 1 Axes>"
            ]
          },
          "metadata": {
            "tags": [],
            "needs_background": "light"
          }
        }
      ]
    },
    {
      "cell_type": "code",
      "metadata": {
        "colab": {
          "base_uri": "https://localhost:8080/"
        },
        "id": "-nAk1kf8KMzY",
        "outputId": "037be0ed-7c68-4e6c-e549-88b3735a2183"
      },
      "source": [
        "#Sports Background of parents column\n",
        "data['Are either of your parents from a sports background?'].unique()"
      ],
      "execution_count": 33,
      "outputs": [
        {
          "output_type": "execute_result",
          "data": {
            "text/plain": [
              "array(['Yes', 'No', nan], dtype=object)"
            ]
          },
          "metadata": {
            "tags": []
          },
          "execution_count": 33
        }
      ]
    },
    {
      "cell_type": "code",
      "metadata": {
        "colab": {
          "base_uri": "https://localhost:8080/"
        },
        "id": "iHIEFG19Kfkj",
        "outputId": "94d3a701-80c3-42a3-e806-ded16a18866d"
      },
      "source": [
        "#summary of sports background of parents\n",
        "data['Are either of your parents from a sports background?'].describe()"
      ],
      "execution_count": 34,
      "outputs": [
        {
          "output_type": "execute_result",
          "data": {
            "text/plain": [
              "count     170\n",
              "unique      2\n",
              "top        No\n",
              "freq      146\n",
              "Name: Are either of your parents from a sports background?, dtype: object"
            ]
          },
          "metadata": {
            "tags": []
          },
          "execution_count": 34
        }
      ]
    },
    {
      "cell_type": "code",
      "metadata": {
        "colab": {
          "base_uri": "https://localhost:8080/",
          "height": 350
        },
        "id": "Z-5rt-mSKjJC",
        "outputId": "d85be7f8-e7d9-4dab-acfd-d6be0cc5725d"
      },
      "source": [
        "#Countplot of sports background of parents\n",
        "sns.countplot(data['Are either of your parents from a sports background?'])"
      ],
      "execution_count": 35,
      "outputs": [
        {
          "output_type": "stream",
          "text": [
            "/usr/local/lib/python3.7/dist-packages/seaborn/_decorators.py:43: FutureWarning: Pass the following variable as a keyword arg: x. From version 0.12, the only valid positional argument will be `data`, and passing other arguments without an explicit keyword will result in an error or misinterpretation.\n",
            "  FutureWarning\n"
          ],
          "name": "stderr"
        },
        {
          "output_type": "execute_result",
          "data": {
            "text/plain": [
              "<matplotlib.axes._subplots.AxesSubplot at 0x7fdae50378d0>"
            ]
          },
          "metadata": {
            "tags": []
          },
          "execution_count": 35
        },
        {
          "output_type": "display_data",
          "data": {
            "image/png": "[encoded data removed]",
            "text/plain": [
              "<Figure size 432x288 with 1 Axes>"
            ]
          },
          "metadata": {
            "tags": [],
            "needs_background": "light"
          }
        }
      ]
    },
    {
      "cell_type": "code",
      "metadata": {
        "colab": {
          "base_uri": "https://localhost:8080/"
        },
        "id": "ZJTJNkxLK4om",
        "outputId": "039b1bb2-4bdb-40e5-aeba-99a8b3f7fc46"
      },
      "source": [
        "#sport(s) played by parent(s)\n",
        "data['If your answer to the previous question was \\'Yes\\', which sport(s) did he/she/they play? (Example: Basketball, Baseball)'].unique()"
      ],
      "execution_count": 36,
      "outputs": [
        {
          "output_type": "execute_result",
          "data": {
            "text/plain": [
              "array(['Basketball', nan, 'Cricket, Volleyball',\n",
              "       'Volleyball and athletics', 'Athlete', 'football, cricket',\n",
              "       'Cricket', 'athlete ', 'Volleyball ', 'Kabadi', 'Athelete ', 'Nil',\n",
              "       'No', 'sexc', 'Dad - badminton', '-', 'Cricket ', 'Basket ball ',\n",
              "       'Volleyball', 'Football', 'Table tennis',\n",
              "       'Table tennis, badminton, chess, tennikoit',\n",
              "       'Son play basketball ', 'Hockey'], dtype=object)"
            ]
          },
          "metadata": {
            "tags": []
          },
          "execution_count": 36
        }
      ]
    },
    {
      "cell_type": "code",
      "metadata": {
        "id": "sgizDlVND4ok"
      },
      "source": [
        "#split into columns using comma as the separator\n",
        "data = pd.concat([data.drop(columns=['If your answer to the previous question was \\'Yes\\', which sport(s) did he/she/they play? (Example: Basketball, Baseball)']), data['If your answer to the previous question was \\'Yes\\', which sport(s) did he/she/they play? (Example: Basketball, Baseball)'].str.split(', ', expand=True)], axis=1)"
      ],
      "execution_count": 37,
      "outputs": []
    },
    {
      "cell_type": "code",
      "metadata": {
        "colab": {
          "base_uri": "https://localhost:8080/",
          "height": 437
        },
        "id": "Ka0JlE1BOBDt",
        "outputId": "58fb630f-1777-46d3-8b04-a829345f98e1"
      },
      "source": [
        "data.head(2)"
      ],
      "execution_count": 38,
      "outputs": [
        {
          "output_type": "execute_result",
          "data": {
            "text/html": [
              "<div>\n",
              "<style scoped>\n",
              "    .dataframe tbody tr th:only-of-type {\n",
              "        vertical-align: middle;\n",
              "    }\n",
              "\n",
              "    .dataframe tbody tr th {\n",
              "        vertical-align: top;\n",
              "    }\n",
              "\n",
              "    .dataframe thead th {\n",
              "        text-align: right;\n",
              "    }\n",
              "</style>\n",
              "<table border=\"1\" class=\"dataframe\">\n",
              "  <thead>\n",
              "    <tr style=\"text-align: right;\">\n",
              "      <th></th>\n",
              "      <th>Timestamp</th>\n",
              "      <th>What is your name?</th>\n",
              "      <th>Gender</th>\n",
              "      <th>Age</th>\n",
              "      <th>Education Level (Highest level pursued)</th>\n",
              "      <th>What is your profession?</th>\n",
              "      <th>How would you describe the place you live?</th>\n",
              "      <th>What is the time taken (in hours, approximately) for your daily commute between home and work?</th>\n",
              "      <th>What is the mode of your daily commute between home and work?</th>\n",
              "      <th>Are either of your parents from a sports background?</th>\n",
              "      <th>Do you have an older sibling(s) who is/are into sports ? (Play or follow passionately)</th>\n",
              "      <th>If your answer to the previous question was 'Yes', which sport(s) does/do he/she/they play? (Example: Basketball, Baseball)</th>\n",
              "      <th>Have you played any sport professionally? (Atleast at an Inter-School level)</th>\n",
              "      <th>If your answer to the previous question was 'Yes', kindly mention the sport(s) you play/played. (Example: Basketball, baseball)</th>\n",
              "      <th>Is there at least one sports facility near the place you live?</th>\n",
              "      <th>If your answer to the previous question was 'Yes', for which sport(s) is the facility available? (Example: Basketball, Baseball)</th>\n",
              "      <th>How far is the given facility from the place you live?( Approximately in kilo meters)</th>\n",
              "      <th>Do you have any long-term health issues that have affected your participation in sports events?</th>\n",
              "      <th>If your answer to the previous question was 'Yes', kindly mention the health issue(s)</th>\n",
              "      <th>Which among these do you watch on the TV? (At least 1 complete match a month) (Can select multiple options)</th>\n",
              "      <th>Kindly mention some of your interests besides sports. (Example: Movies, Music, Debate)</th>\n",
              "      <th>How many Indian Premier League (IPL) matches do you watch in a season?</th>\n",
              "      <th>Do you watch international matches?</th>\n",
              "      <th>Do you watch international matches in which India do not participate?</th>\n",
              "      <th>Which of the following formats do you watch? (Can select multiple options)</th>\n",
              "      <th>How early in the Morning would you wake up for a cricket match?</th>\n",
              "      <th>How late in the Night would you stay up for a cricket match?</th>\n",
              "      <th>Which of these leagues do you watch? (Can select multiple options)</th>\n",
              "      <th>How much of Football do you watch generally? (Of the leagues you selected in the previous question)</th>\n",
              "      <th>How early in the Morning would you wake up for a football match?</th>\n",
              "      <th>How late in the Night would you stay up for a football match?</th>\n",
              "      <th>Which of these Grand slams do you watch? (Can select multiple options)</th>\n",
              "      <th>How much of Grand slam Tennis do you watch?</th>\n",
              "      <th>How early in the Morning would you wake up for a tennis match?</th>\n",
              "      <th>How late in the Night would you stay up for a tennis match?</th>\n",
              "      <th>0</th>\n",
              "      <th>1</th>\n",
              "      <th>2</th>\n",
              "      <th>3</th>\n",
              "    </tr>\n",
              "  </thead>\n",
              "  <tbody>\n",
              "    <tr>\n",
              "      <th>0</th>\n",
              "      <td>2021/02/26 8:32:30 pm GMT+5:30</td>\n",
              "      <td>Martin</td>\n",
              "      <td>Male</td>\n",
              "      <td>59.0</td>\n",
              "      <td>Doctorate</td>\n",
              "      <td>Teaching profession</td>\n",
              "      <td>Metropolitan</td>\n",
              "      <td>1.0</td>\n",
              "      <td>Own car, two-wheeler</td>\n",
              "      <td>Yes</td>\n",
              "      <td>No</td>\n",
              "      <td>NaN</td>\n",
              "      <td>No</td>\n",
              "      <td>NaN</td>\n",
              "      <td>Yes</td>\n",
              "      <td>Basketball</td>\n",
              "      <td>0.25 km</td>\n",
              "      <td>Yes</td>\n",
              "      <td>Bronchitis</td>\n",
              "      <td>NaN</td>\n",
              "      <td>Music, Debates</td>\n",
              "      <td>NaN</td>\n",
              "      <td>NaN</td>\n",
              "      <td>NaN</td>\n",
              "      <td>NaN</td>\n",
              "      <td>NaN</td>\n",
              "      <td>NaN</td>\n",
              "      <td>NaN</td>\n",
              "      <td>NaN</td>\n",
              "      <td>NaN</td>\n",
              "      <td>NaN</td>\n",
              "      <td>NaN</td>\n",
              "      <td>NaN</td>\n",
              "      <td>NaN</td>\n",
              "      <td>NaN</td>\n",
              "      <td>Basketball</td>\n",
              "      <td>None</td>\n",
              "      <td>None</td>\n",
              "      <td>None</td>\n",
              "    </tr>\n",
              "    <tr>\n",
              "      <th>1</th>\n",
              "      <td>2021/02/26 8:58:00 pm GMT+5:30</td>\n",
              "      <td>thomas</td>\n",
              "      <td>Male</td>\n",
              "      <td>29.0</td>\n",
              "      <td>Undergraduate</td>\n",
              "      <td>Student</td>\n",
              "      <td>Metropolitan</td>\n",
              "      <td>1.0</td>\n",
              "      <td>Own car, two-wheeler</td>\n",
              "      <td>No</td>\n",
              "      <td>No</td>\n",
              "      <td>NaN</td>\n",
              "      <td>No</td>\n",
              "      <td>NaN</td>\n",
              "      <td>No</td>\n",
              "      <td>NaN</td>\n",
              "      <td>NaN</td>\n",
              "      <td>No</td>\n",
              "      <td>NaN</td>\n",
              "      <td>chess</td>\n",
              "      <td>reading</td>\n",
              "      <td>NaN</td>\n",
              "      <td>NaN</td>\n",
              "      <td>NaN</td>\n",
              "      <td>NaN</td>\n",
              "      <td>NaN</td>\n",
              "      <td>NaN</td>\n",
              "      <td>NaN</td>\n",
              "      <td>NaN</td>\n",
              "      <td>NaN</td>\n",
              "      <td>NaN</td>\n",
              "      <td>NaN</td>\n",
              "      <td>NaN</td>\n",
              "      <td>NaN</td>\n",
              "      <td>NaN</td>\n",
              "      <td>NaN</td>\n",
              "      <td>NaN</td>\n",
              "      <td>NaN</td>\n",
              "      <td>NaN</td>\n",
              "    </tr>\n",
              "  </tbody>\n",
              "</table>\n",
              "</div>"
            ],
            "text/plain": [
              "                        Timestamp What is your name? Gender  ...     1     2     3\n",
              "0  2021/02/26 8:32:30 pm GMT+5:30             Martin   Male  ...  None  None  None\n",
              "1  2021/02/26 8:58:00 pm GMT+5:30             thomas   Male  ...   NaN   NaN   NaN\n",
              "\n",
              "[2 rows x 39 columns]"
            ]
          },
          "metadata": {
            "tags": []
          },
          "execution_count": 38
        }
      ]
    },
    {
      "cell_type": "code",
      "metadata": {
        "id": "n7qwyTgnFK7-"
      },
      "source": [
        "#rename new columns\n",
        "for i in range(4):\n",
        "  data.rename(columns={i:'Parents_'+str(i)},inplace=True)"
      ],
      "execution_count": 39,
      "outputs": []
    },
    {
      "cell_type": "code",
      "metadata": {
        "colab": {
          "base_uri": "https://localhost:8080/"
        },
        "id": "2VNYpyGNOQ7F",
        "outputId": "bb7ffb12-d36d-4dad-adde-e21fcdcbe468"
      },
      "source": [
        "#Older sibling(s) sports background\n",
        "data['Do you have an older sibling(s) who is/are into sports ? (Play or follow passionately)'].unique()"
      ],
      "execution_count": 40,
      "outputs": [
        {
          "output_type": "execute_result",
          "data": {
            "text/plain": [
              "array(['No', 'Yes', nan], dtype=object)"
            ]
          },
          "metadata": {
            "tags": []
          },
          "execution_count": 40
        }
      ]
    },
    {
      "cell_type": "code",
      "metadata": {
        "colab": {
          "base_uri": "https://localhost:8080/"
        },
        "id": "loASu7zFOZgz",
        "outputId": "700c6324-0e9e-4404-fee3-046e023b2f45"
      },
      "source": [
        "#summary of older sibling(s) sports background\n",
        "data['Do you have an older sibling(s) who is/are into sports ? (Play or follow passionately)'].describe()"
      ],
      "execution_count": 41,
      "outputs": [
        {
          "output_type": "execute_result",
          "data": {
            "text/plain": [
              "count     170\n",
              "unique      2\n",
              "top        No\n",
              "freq      144\n",
              "Name: Do you have an older sibling(s) who is/are into sports ? (Play or follow passionately), dtype: object"
            ]
          },
          "metadata": {
            "tags": []
          },
          "execution_count": 41
        }
      ]
    },
    {
      "cell_type": "code",
      "metadata": {
        "colab": {
          "base_uri": "https://localhost:8080/",
          "height": 350
        },
        "id": "Ht8PzY6bOgGr",
        "outputId": "93c3bca6-0c9b-4d59-b685-58210b57c4bf"
      },
      "source": [
        "#Countplot of Older sibling(s) sports background\n",
        "sns.countplot(data['Do you have an older sibling(s) who is/are into sports ? (Play or follow passionately)'])"
      ],
      "execution_count": 42,
      "outputs": [
        {
          "output_type": "stream",
          "text": [
            "/usr/local/lib/python3.7/dist-packages/seaborn/_decorators.py:43: FutureWarning: Pass the following variable as a keyword arg: x. From version 0.12, the only valid positional argument will be `data`, and passing other arguments without an explicit keyword will result in an error or misinterpretation.\n",
            "  FutureWarning\n"
          ],
          "name": "stderr"
        },
        {
          "output_type": "execute_result",
          "data": {
            "text/plain": [
              "<matplotlib.axes._subplots.AxesSubplot at 0x7fdae4ed5a50>"
            ]
          },
          "metadata": {
            "tags": []
          },
          "execution_count": 42
        },
        {
          "output_type": "display_data",
          "data": {
            "image/png": "[encoded data removed]",
            "text/plain": [
              "<Figure size 432x288 with 1 Axes>"
            ]
          },
          "metadata": {
            "tags": [],
            "needs_background": "light"
          }
        }
      ]
    },
    {
      "cell_type": "code",
      "metadata": {
        "id": "5OUZkQYoGez4"
      },
      "source": [
        "#split the sports played into new columns at commas\n",
        "data=pd.concat([data.drop(columns='If your answer to the previous question was \\'Yes\\', which sport(s) does/do he/she/they play? (Example: Basketball, Baseball)'),data[\"If your answer to the previous question was 'Yes', which sport(s) does/do he/she/they play? (Example: Basketball, Baseball)\"].str.split(',',expand=True)],axis=1)"
      ],
      "execution_count": 43,
      "outputs": []
    },
    {
      "cell_type": "code",
      "metadata": {
        "id": "nl8z1pcJHd6R"
      },
      "source": [
        "#rename the new column\n",
        "data.rename(columns={0:'Siblings_'+str(0)},inplace=True)"
      ],
      "execution_count": 44,
      "outputs": []
    },
    {
      "cell_type": "code",
      "metadata": {
        "colab": {
          "base_uri": "https://localhost:8080/",
          "height": 437
        },
        "id": "XsE-VRwYO9wk",
        "outputId": "ec34d34e-a6cb-40de-8d98-f789f62cb1d4"
      },
      "source": [
        "data.head(2)"
      ],
      "execution_count": 45,
      "outputs": [
        {
          "output_type": "execute_result",
          "data": {
            "text/html": [
              "<div>\n",
              "<style scoped>\n",
              "    .dataframe tbody tr th:only-of-type {\n",
              "        vertical-align: middle;\n",
              "    }\n",
              "\n",
              "    .dataframe tbody tr th {\n",
              "        vertical-align: top;\n",
              "    }\n",
              "\n",
              "    .dataframe thead th {\n",
              "        text-align: right;\n",
              "    }\n",
              "</style>\n",
              "<table border=\"1\" class=\"dataframe\">\n",
              "  <thead>\n",
              "    <tr style=\"text-align: right;\">\n",
              "      <th></th>\n",
              "      <th>Timestamp</th>\n",
              "      <th>What is your name?</th>\n",
              "      <th>Gender</th>\n",
              "      <th>Age</th>\n",
              "      <th>Education Level (Highest level pursued)</th>\n",
              "      <th>What is your profession?</th>\n",
              "      <th>How would you describe the place you live?</th>\n",
              "      <th>What is the time taken (in hours, approximately) for your daily commute between home and work?</th>\n",
              "      <th>What is the mode of your daily commute between home and work?</th>\n",
              "      <th>Are either of your parents from a sports background?</th>\n",
              "      <th>Do you have an older sibling(s) who is/are into sports ? (Play or follow passionately)</th>\n",
              "      <th>Have you played any sport professionally? (Atleast at an Inter-School level)</th>\n",
              "      <th>If your answer to the previous question was 'Yes', kindly mention the sport(s) you play/played. (Example: Basketball, baseball)</th>\n",
              "      <th>Is there at least one sports facility near the place you live?</th>\n",
              "      <th>If your answer to the previous question was 'Yes', for which sport(s) is the facility available? (Example: Basketball, Baseball)</th>\n",
              "      <th>How far is the given facility from the place you live?( Approximately in kilo meters)</th>\n",
              "      <th>Do you have any long-term health issues that have affected your participation in sports events?</th>\n",
              "      <th>If your answer to the previous question was 'Yes', kindly mention the health issue(s)</th>\n",
              "      <th>Which among these do you watch on the TV? (At least 1 complete match a month) (Can select multiple options)</th>\n",
              "      <th>Kindly mention some of your interests besides sports. (Example: Movies, Music, Debate)</th>\n",
              "      <th>How many Indian Premier League (IPL) matches do you watch in a season?</th>\n",
              "      <th>Do you watch international matches?</th>\n",
              "      <th>Do you watch international matches in which India do not participate?</th>\n",
              "      <th>Which of the following formats do you watch? (Can select multiple options)</th>\n",
              "      <th>How early in the Morning would you wake up for a cricket match?</th>\n",
              "      <th>How late in the Night would you stay up for a cricket match?</th>\n",
              "      <th>Which of these leagues do you watch? (Can select multiple options)</th>\n",
              "      <th>How much of Football do you watch generally? (Of the leagues you selected in the previous question)</th>\n",
              "      <th>How early in the Morning would you wake up for a football match?</th>\n",
              "      <th>How late in the Night would you stay up for a football match?</th>\n",
              "      <th>Which of these Grand slams do you watch? (Can select multiple options)</th>\n",
              "      <th>How much of Grand slam Tennis do you watch?</th>\n",
              "      <th>How early in the Morning would you wake up for a tennis match?</th>\n",
              "      <th>How late in the Night would you stay up for a tennis match?</th>\n",
              "      <th>Parents_0</th>\n",
              "      <th>Parents_1</th>\n",
              "      <th>Parents_2</th>\n",
              "      <th>Parents_3</th>\n",
              "      <th>Siblings_0</th>\n",
              "    </tr>\n",
              "  </thead>\n",
              "  <tbody>\n",
              "    <tr>\n",
              "      <th>0</th>\n",
              "      <td>2021/02/26 8:32:30 pm GMT+5:30</td>\n",
              "      <td>Martin</td>\n",
              "      <td>Male</td>\n",
              "      <td>59.0</td>\n",
              "      <td>Doctorate</td>\n",
              "      <td>Teaching profession</td>\n",
              "      <td>Metropolitan</td>\n",
              "      <td>1.0</td>\n",
              "      <td>Own car, two-wheeler</td>\n",
              "      <td>Yes</td>\n",
              "      <td>No</td>\n",
              "      <td>No</td>\n",
              "      <td>NaN</td>\n",
              "      <td>Yes</td>\n",
              "      <td>Basketball</td>\n",
              "      <td>0.25 km</td>\n",
              "      <td>Yes</td>\n",
              "      <td>Bronchitis</td>\n",
              "      <td>NaN</td>\n",
              "      <td>Music, Debates</td>\n",
              "      <td>NaN</td>\n",
              "      <td>NaN</td>\n",
              "      <td>NaN</td>\n",
              "      <td>NaN</td>\n",
              "      <td>NaN</td>\n",
              "      <td>NaN</td>\n",
              "      <td>NaN</td>\n",
              "      <td>NaN</td>\n",
              "      <td>NaN</td>\n",
              "      <td>NaN</td>\n",
              "      <td>NaN</td>\n",
              "      <td>NaN</td>\n",
              "      <td>NaN</td>\n",
              "      <td>NaN</td>\n",
              "      <td>Basketball</td>\n",
              "      <td>None</td>\n",
              "      <td>None</td>\n",
              "      <td>None</td>\n",
              "      <td>NaN</td>\n",
              "    </tr>\n",
              "    <tr>\n",
              "      <th>1</th>\n",
              "      <td>2021/02/26 8:58:00 pm GMT+5:30</td>\n",
              "      <td>thomas</td>\n",
              "      <td>Male</td>\n",
              "      <td>29.0</td>\n",
              "      <td>Undergraduate</td>\n",
              "      <td>Student</td>\n",
              "      <td>Metropolitan</td>\n",
              "      <td>1.0</td>\n",
              "      <td>Own car, two-wheeler</td>\n",
              "      <td>No</td>\n",
              "      <td>No</td>\n",
              "      <td>No</td>\n",
              "      <td>NaN</td>\n",
              "      <td>No</td>\n",
              "      <td>NaN</td>\n",
              "      <td>NaN</td>\n",
              "      <td>No</td>\n",
              "      <td>NaN</td>\n",
              "      <td>chess</td>\n",
              "      <td>reading</td>\n",
              "      <td>NaN</td>\n",
              "      <td>NaN</td>\n",
              "      <td>NaN</td>\n",
              "      <td>NaN</td>\n",
              "      <td>NaN</td>\n",
              "      <td>NaN</td>\n",
              "      <td>NaN</td>\n",
              "      <td>NaN</td>\n",
              "      <td>NaN</td>\n",
              "      <td>NaN</td>\n",
              "      <td>NaN</td>\n",
              "      <td>NaN</td>\n",
              "      <td>NaN</td>\n",
              "      <td>NaN</td>\n",
              "      <td>NaN</td>\n",
              "      <td>NaN</td>\n",
              "      <td>NaN</td>\n",
              "      <td>NaN</td>\n",
              "      <td>NaN</td>\n",
              "    </tr>\n",
              "  </tbody>\n",
              "</table>\n",
              "</div>"
            ],
            "text/plain": [
              "                        Timestamp What is your name?  ... Parents_3  Siblings_0\n",
              "0  2021/02/26 8:32:30 pm GMT+5:30             Martin  ...      None         NaN\n",
              "1  2021/02/26 8:58:00 pm GMT+5:30             thomas  ...       NaN         NaN\n",
              "\n",
              "[2 rows x 39 columns]"
            ]
          },
          "metadata": {
            "tags": []
          },
          "execution_count": 45
        }
      ]
    },
    {
      "cell_type": "code",
      "metadata": {
        "colab": {
          "base_uri": "https://localhost:8080/"
        },
        "id": "pFoPF37KPKh6",
        "outputId": "d06e849c-7830-49d5-c303-8252c5afc30d"
      },
      "source": [
        "# sports played column\n",
        "data['Have you played any sport professionally? (Atleast at an Inter-School level)'].unique()"
      ],
      "execution_count": 46,
      "outputs": [
        {
          "output_type": "execute_result",
          "data": {
            "text/plain": [
              "array(['No', 'Yes'], dtype=object)"
            ]
          },
          "metadata": {
            "tags": []
          },
          "execution_count": 46
        }
      ]
    },
    {
      "cell_type": "code",
      "metadata": {
        "colab": {
          "base_uri": "https://localhost:8080/"
        },
        "id": "fZkePlgSPQer",
        "outputId": "d2fc70d9-be80-4065-bfc8-c4ebed7f884c"
      },
      "source": [
        "#summary of sports played column\n",
        "data['Have you played any sport professionally? (Atleast at an Inter-School level)'].describe()"
      ],
      "execution_count": 47,
      "outputs": [
        {
          "output_type": "execute_result",
          "data": {
            "text/plain": [
              "count     173\n",
              "unique      2\n",
              "top       Yes\n",
              "freq       95\n",
              "Name: Have you played any sport professionally? (Atleast at an Inter-School level), dtype: object"
            ]
          },
          "metadata": {
            "tags": []
          },
          "execution_count": 47
        }
      ]
    },
    {
      "cell_type": "code",
      "metadata": {
        "colab": {
          "base_uri": "https://localhost:8080/",
          "height": 350
        },
        "id": "2W7B7Zu4PUEa",
        "outputId": "e7f401de-6b9a-472c-f927-3b212048c38c"
      },
      "source": [
        "#Countplot of sports played column \n",
        "sns.countplot(data['Have you played any sport professionally? (Atleast at an Inter-School level)'])"
      ],
      "execution_count": 48,
      "outputs": [
        {
          "output_type": "stream",
          "text": [
            "/usr/local/lib/python3.7/dist-packages/seaborn/_decorators.py:43: FutureWarning: Pass the following variable as a keyword arg: x. From version 0.12, the only valid positional argument will be `data`, and passing other arguments without an explicit keyword will result in an error or misinterpretation.\n",
            "  FutureWarning\n"
          ],
          "name": "stderr"
        },
        {
          "output_type": "execute_result",
          "data": {
            "text/plain": [
              "<matplotlib.axes._subplots.AxesSubplot at 0x7fdae4ebd8d0>"
            ]
          },
          "metadata": {
            "tags": []
          },
          "execution_count": 48
        },
        {
          "output_type": "display_data",
          "data": {
            "image/png": "[encoded data removed]",
            "text/plain": [
              "<Figure size 432x288 with 1 Axes>"
            ]
          },
          "metadata": {
            "tags": [],
            "needs_background": "light"
          }
        }
      ]
    },
    {
      "cell_type": "code",
      "metadata": {
        "colab": {
          "base_uri": "https://localhost:8080/"
        },
        "id": "sj6YlwdGPXNC",
        "outputId": "b7def0bd-7ace-4c18-fc6e-c7dc774fe8b6"
      },
      "source": [
        "#unique sports played\n",
        "data['If your answer to the previous question was \\'Yes\\', kindly mention the sport(s) you play/played. (Example: Basketball, baseball)'].unique()"
      ],
      "execution_count": 49,
      "outputs": [
        {
          "output_type": "execute_result",
          "data": {
            "text/plain": [
              "array([nan, 'Football, Cricket', 'Chess', 'Throwball', 'Track and Field',\n",
              "       'Kho-Kho', 'Cricket', 'Basketball ', 'Athletic', 'Football ',\n",
              "       'Hockey ', 'Long distance', 'Basketball',\n",
              "       'Throwball, Chess, Disc throw', 'Tennis', 'Kabbadi', 'Football',\n",
              "       'Badminton', 'Volleyball, shuttle ', 'Basketball and khoo khoo',\n",
              "       'Hockey football and athletics ', 'Volleyball',\n",
              "       'Football (Soccer)', 'Khokho', 'nil',\n",
              "       'Basketball , Volleyball , Badminton', 'Athletics ',\n",
              "       'Cricket, football (utwente)', 'Handball',\n",
              "       'Ball batmition and cricket ', 'Cricket ', 'Hockey',\n",
              "       'Badminton, Table tennis', 'Football(division) ', 'football',\n",
              "       'Football,Atheletics', 'with mia khalififa ', 'Tennis ',\n",
              "       'Badminton ', 'Discus Throw', 'cricket ', 'Volleyball, khokho',\n",
              "       'Cricket, Table tennis, chess', 'Netball ', 'Kabaddi- state level',\n",
              "       'Football ans Hockey ', 'Volleyball ', 'Volley ball',\n",
              "       'Volleyball, basketball, short put', 'Athletics, volleyball ',\n",
              "       'Tennicoit, volleyball', 'Skipping', 'Throw ball, Net ball',\n",
              "       'Athletics kho kho', 'Athletics,cricket', 'Table tennis, kho-kho',\n",
              "       'Basketball, hockey', 'Table tennis '], dtype=object)"
            ]
          },
          "metadata": {
            "tags": []
          },
          "execution_count": 49
        }
      ]
    },
    {
      "cell_type": "code",
      "metadata": {
        "id": "HENMcDaPH6gD"
      },
      "source": [
        "#split the sports played into new columns at the commas\n",
        "data = pd.concat([data.drop(columns=['If your answer to the previous question was \\'Yes\\', kindly mention the sport(s) you play/played. (Example: Basketball, baseball)']), data['If your answer to the previous question was \\'Yes\\', kindly mention the sport(s) you play/played. (Example: Basketball, baseball)'].str.split(', ', expand=True)], axis=1)"
      ],
      "execution_count": 50,
      "outputs": []
    },
    {
      "cell_type": "code",
      "metadata": {
        "colab": {
          "base_uri": "https://localhost:8080/",
          "height": 437
        },
        "id": "sgOT-Dt1Rjom",
        "outputId": "53c9d431-a93e-4eea-ad2b-8cc5949afd5a"
      },
      "source": [
        "data.head(2)"
      ],
      "execution_count": 51,
      "outputs": [
        {
          "output_type": "execute_result",
          "data": {
            "text/html": [
              "<div>\n",
              "<style scoped>\n",
              "    .dataframe tbody tr th:only-of-type {\n",
              "        vertical-align: middle;\n",
              "    }\n",
              "\n",
              "    .dataframe tbody tr th {\n",
              "        vertical-align: top;\n",
              "    }\n",
              "\n",
              "    .dataframe thead th {\n",
              "        text-align: right;\n",
              "    }\n",
              "</style>\n",
              "<table border=\"1\" class=\"dataframe\">\n",
              "  <thead>\n",
              "    <tr style=\"text-align: right;\">\n",
              "      <th></th>\n",
              "      <th>Timestamp</th>\n",
              "      <th>What is your name?</th>\n",
              "      <th>Gender</th>\n",
              "      <th>Age</th>\n",
              "      <th>Education Level (Highest level pursued)</th>\n",
              "      <th>What is your profession?</th>\n",
              "      <th>How would you describe the place you live?</th>\n",
              "      <th>What is the time taken (in hours, approximately) for your daily commute between home and work?</th>\n",
              "      <th>What is the mode of your daily commute between home and work?</th>\n",
              "      <th>Are either of your parents from a sports background?</th>\n",
              "      <th>Do you have an older sibling(s) who is/are into sports ? (Play or follow passionately)</th>\n",
              "      <th>Have you played any sport professionally? (Atleast at an Inter-School level)</th>\n",
              "      <th>Is there at least one sports facility near the place you live?</th>\n",
              "      <th>If your answer to the previous question was 'Yes', for which sport(s) is the facility available? (Example: Basketball, Baseball)</th>\n",
              "      <th>How far is the given facility from the place you live?( Approximately in kilo meters)</th>\n",
              "      <th>Do you have any long-term health issues that have affected your participation in sports events?</th>\n",
              "      <th>If your answer to the previous question was 'Yes', kindly mention the health issue(s)</th>\n",
              "      <th>Which among these do you watch on the TV? (At least 1 complete match a month) (Can select multiple options)</th>\n",
              "      <th>Kindly mention some of your interests besides sports. (Example: Movies, Music, Debate)</th>\n",
              "      <th>How many Indian Premier League (IPL) matches do you watch in a season?</th>\n",
              "      <th>Do you watch international matches?</th>\n",
              "      <th>Do you watch international matches in which India do not participate?</th>\n",
              "      <th>Which of the following formats do you watch? (Can select multiple options)</th>\n",
              "      <th>How early in the Morning would you wake up for a cricket match?</th>\n",
              "      <th>How late in the Night would you stay up for a cricket match?</th>\n",
              "      <th>Which of these leagues do you watch? (Can select multiple options)</th>\n",
              "      <th>How much of Football do you watch generally? (Of the leagues you selected in the previous question)</th>\n",
              "      <th>How early in the Morning would you wake up for a football match?</th>\n",
              "      <th>How late in the Night would you stay up for a football match?</th>\n",
              "      <th>Which of these Grand slams do you watch? (Can select multiple options)</th>\n",
              "      <th>How much of Grand slam Tennis do you watch?</th>\n",
              "      <th>How early in the Morning would you wake up for a tennis match?</th>\n",
              "      <th>How late in the Night would you stay up for a tennis match?</th>\n",
              "      <th>Parents_0</th>\n",
              "      <th>Parents_1</th>\n",
              "      <th>Parents_2</th>\n",
              "      <th>Parents_3</th>\n",
              "      <th>Siblings_0</th>\n",
              "      <th>0</th>\n",
              "      <th>1</th>\n",
              "      <th>2</th>\n",
              "    </tr>\n",
              "  </thead>\n",
              "  <tbody>\n",
              "    <tr>\n",
              "      <th>0</th>\n",
              "      <td>2021/02/26 8:32:30 pm GMT+5:30</td>\n",
              "      <td>Martin</td>\n",
              "      <td>Male</td>\n",
              "      <td>59.0</td>\n",
              "      <td>Doctorate</td>\n",
              "      <td>Teaching profession</td>\n",
              "      <td>Metropolitan</td>\n",
              "      <td>1.0</td>\n",
              "      <td>Own car, two-wheeler</td>\n",
              "      <td>Yes</td>\n",
              "      <td>No</td>\n",
              "      <td>No</td>\n",
              "      <td>Yes</td>\n",
              "      <td>Basketball</td>\n",
              "      <td>0.25 km</td>\n",
              "      <td>Yes</td>\n",
              "      <td>Bronchitis</td>\n",
              "      <td>NaN</td>\n",
              "      <td>Music, Debates</td>\n",
              "      <td>NaN</td>\n",
              "      <td>NaN</td>\n",
              "      <td>NaN</td>\n",
              "      <td>NaN</td>\n",
              "      <td>NaN</td>\n",
              "      <td>NaN</td>\n",
              "      <td>NaN</td>\n",
              "      <td>NaN</td>\n",
              "      <td>NaN</td>\n",
              "      <td>NaN</td>\n",
              "      <td>NaN</td>\n",
              "      <td>NaN</td>\n",
              "      <td>NaN</td>\n",
              "      <td>NaN</td>\n",
              "      <td>Basketball</td>\n",
              "      <td>None</td>\n",
              "      <td>None</td>\n",
              "      <td>None</td>\n",
              "      <td>NaN</td>\n",
              "      <td>NaN</td>\n",
              "      <td>NaN</td>\n",
              "      <td>NaN</td>\n",
              "    </tr>\n",
              "    <tr>\n",
              "      <th>1</th>\n",
              "      <td>2021/02/26 8:58:00 pm GMT+5:30</td>\n",
              "      <td>thomas</td>\n",
              "      <td>Male</td>\n",
              "      <td>29.0</td>\n",
              "      <td>Undergraduate</td>\n",
              "      <td>Student</td>\n",
              "      <td>Metropolitan</td>\n",
              "      <td>1.0</td>\n",
              "      <td>Own car, two-wheeler</td>\n",
              "      <td>No</td>\n",
              "      <td>No</td>\n",
              "      <td>No</td>\n",
              "      <td>No</td>\n",
              "      <td>NaN</td>\n",
              "      <td>NaN</td>\n",
              "      <td>No</td>\n",
              "      <td>NaN</td>\n",
              "      <td>chess</td>\n",
              "      <td>reading</td>\n",
              "      <td>NaN</td>\n",
              "      <td>NaN</td>\n",
              "      <td>NaN</td>\n",
              "      <td>NaN</td>\n",
              "      <td>NaN</td>\n",
              "      <td>NaN</td>\n",
              "      <td>NaN</td>\n",
              "      <td>NaN</td>\n",
              "      <td>NaN</td>\n",
              "      <td>NaN</td>\n",
              "      <td>NaN</td>\n",
              "      <td>NaN</td>\n",
              "      <td>NaN</td>\n",
              "      <td>NaN</td>\n",
              "      <td>NaN</td>\n",
              "      <td>NaN</td>\n",
              "      <td>NaN</td>\n",
              "      <td>NaN</td>\n",
              "      <td>NaN</td>\n",
              "      <td>NaN</td>\n",
              "      <td>NaN</td>\n",
              "      <td>NaN</td>\n",
              "    </tr>\n",
              "  </tbody>\n",
              "</table>\n",
              "</div>"
            ],
            "text/plain": [
              "                        Timestamp What is your name? Gender  ...    0    1    2\n",
              "0  2021/02/26 8:32:30 pm GMT+5:30             Martin   Male  ...  NaN  NaN  NaN\n",
              "1  2021/02/26 8:58:00 pm GMT+5:30             thomas   Male  ...  NaN  NaN  NaN\n",
              "\n",
              "[2 rows x 41 columns]"
            ]
          },
          "metadata": {
            "tags": []
          },
          "execution_count": 51
        }
      ]
    },
    {
      "cell_type": "code",
      "metadata": {
        "id": "LHtu4MUQIiIU"
      },
      "source": [
        "#rename the new columns\n",
        "for i in range(3):\n",
        "  data.rename(columns={i:'self_'+str(i)},inplace=True)"
      ],
      "execution_count": 52,
      "outputs": []
    },
    {
      "cell_type": "code",
      "metadata": {
        "colab": {
          "base_uri": "https://localhost:8080/"
        },
        "id": "WTD26NNxSGZD",
        "outputId": "23d1e267-56d0-49ae-9340-144f42a7de50"
      },
      "source": [
        "#sports facility column\n",
        "data['Is there at least one sports facility near the place you live?'].unique()"
      ],
      "execution_count": 53,
      "outputs": [
        {
          "output_type": "execute_result",
          "data": {
            "text/plain": [
              "array(['Yes', 'No'], dtype=object)"
            ]
          },
          "metadata": {
            "tags": []
          },
          "execution_count": 53
        }
      ]
    },
    {
      "cell_type": "code",
      "metadata": {
        "colab": {
          "base_uri": "https://localhost:8080/"
        },
        "id": "Fqdk3jzKSLpL",
        "outputId": "3d3d2f74-a6e5-4427-b62d-fa206523f8df"
      },
      "source": [
        "#summary of sports facility column\n",
        "data['Is there at least one sports facility near the place you live?'].describe()"
      ],
      "execution_count": 54,
      "outputs": [
        {
          "output_type": "execute_result",
          "data": {
            "text/plain": [
              "count     173\n",
              "unique      2\n",
              "top       Yes\n",
              "freq      120\n",
              "Name: Is there at least one sports facility near the place you live?, dtype: object"
            ]
          },
          "metadata": {
            "tags": []
          },
          "execution_count": 54
        }
      ]
    },
    {
      "cell_type": "code",
      "metadata": {
        "colab": {
          "base_uri": "https://localhost:8080/",
          "height": 350
        },
        "id": "ktBy02U6SSeL",
        "outputId": "eef06cb5-bddb-425c-85b6-bd83436ae49c"
      },
      "source": [
        "#countplot of sports facility column\n",
        "sns.countplot(data['Is there at least one sports facility near the place you live?'])"
      ],
      "execution_count": 55,
      "outputs": [
        {
          "output_type": "stream",
          "text": [
            "/usr/local/lib/python3.7/dist-packages/seaborn/_decorators.py:43: FutureWarning: Pass the following variable as a keyword arg: x. From version 0.12, the only valid positional argument will be `data`, and passing other arguments without an explicit keyword will result in an error or misinterpretation.\n",
            "  FutureWarning\n"
          ],
          "name": "stderr"
        },
        {
          "output_type": "execute_result",
          "data": {
            "text/plain": [
              "<matplotlib.axes._subplots.AxesSubplot at 0x7fdae4e2fa50>"
            ]
          },
          "metadata": {
            "tags": []
          },
          "execution_count": 55
        },
        {
          "output_type": "display_data",
          "data": {
            "image/png": "[encoded data removed]",
            "text/plain": [
              "<Figure size 432x288 with 1 Axes>"
            ]
          },
          "metadata": {
            "tags": [],
            "needs_background": "light"
          }
        }
      ]
    },
    {
      "cell_type": "code",
      "metadata": {
        "colab": {
          "base_uri": "https://localhost:8080/"
        },
        "id": "Ht23ie__SXTp",
        "outputId": "4cd43876-226e-4441-a4ce-3031de99113d"
      },
      "source": [
        "#sports facility type\n",
        "data['If your answer to the previous question was \\'Yes\\', for which sport(s) is the facility available? (Example: Basketball, Baseball)'].unique()"
      ],
      "execution_count": 56,
      "outputs": [
        {
          "output_type": "execute_result",
          "data": {
            "text/plain": [
              "array(['Basketball', nan, 'Badminton ', 'Badminton', 'Tennis', 'Cricket',\n",
              "       'Basketball court', 'Badminton, Basketball, Football', 'Football',\n",
              "       'Badminton, basketball, table tennis , snooker', 'Cricket ',\n",
              "       'Tennis ', 'Badminton, skating, archery, tennis.',\n",
              "       'Almost all (Anna University)',\n",
              "       'SDAT swimming pool and indoor badminton court ', 'Swimming',\n",
              "       'Basketball, Football, Cricket', 'Footbal, Cricket',\n",
              "       'Badminton court', 'Basketball and Football', 'All the sports ',\n",
              "       'Nil', 'Badminton Court and Tennus court',\n",
              "       'Badminton, football , cricket ', 'Football  ,Cricket ',\n",
              "       'Tennis, cricket, swimming',\n",
              "       'Basketball, badminton, cricket, football', 'Cricket, basketball',\n",
              "       'Setle and cricket ', 'Golf, tennis', 'cricket',\n",
              "       'Football and Atheletics', 'bob stadium',\n",
              "       'Batminton, Table tennios', 'YMCA, so a lot of things',\n",
              "       'Cricket, tennis,', 'football',\n",
              "       'Track, basketball football,cricket',\n",
              "       'Football, badminton,tennis, basketball, table tennis',\n",
              "       'Basketball, football ', 'Badminton, swimming',\n",
              "       'Badminton, Tennis', 'No', 'Nil ', 'Basketball ', 'Volleyball ',\n",
              "       'Tennis, football, shuttle, table tennis', 'Badminton. ',\n",
              "       'Cricket ground ', 'Basket ball', 'Tennis, Table tennis ',\n",
              "       'Soccer, badminton ,basketball',\n",
              "       'its for all kinds of sports but i know it has tennis',\n",
              "       'what is a sports facility', 'Cricket, Badminton', 'Badmitton',\n",
              "       'Tennis court and football', 'Badminton and football court',\n",
              "       'Swimming pool', 'Tennis, badminton, cricket',\n",
              "       'Basketball, football, hockey, volleyball , squash, badminton, golf, table tennis',\n",
              "       'Basketball, table tennis, swimming, badminton, kabadi',\n",
              "       'Badminton, Tennis, Cricket, Basketball',\n",
              "       'Badminton, basketball,squash,tt,'], dtype=object)"
            ]
          },
          "metadata": {
            "tags": []
          },
          "execution_count": 56
        }
      ]
    },
    {
      "cell_type": "code",
      "metadata": {
        "id": "Y-pfFUgfJRuS"
      },
      "source": [
        "#split sport facilty types into new columns at the commas\n",
        "data = pd.concat([data.drop(columns=['If your answer to the previous question was \\'Yes\\', for which sport(s) is the facility available? (Example: Basketball, Baseball)']), data['If your answer to the previous question was \\'Yes\\', for which sport(s) is the facility available? (Example: Basketball, Baseball)'].str.split(', ', expand=True)], axis=1)"
      ],
      "execution_count": 57,
      "outputs": []
    },
    {
      "cell_type": "code",
      "metadata": {
        "id": "G8oj9OFMJP8z"
      },
      "source": [
        "#rename the new columns\n",
        "for i in range(8):\n",
        "  data.rename(columns={i:'facility_'+str(i)},inplace=True)"
      ],
      "execution_count": 58,
      "outputs": []
    },
    {
      "cell_type": "code",
      "metadata": {
        "id": "Q4gR8NQAS-bD",
        "colab": {
          "base_uri": "https://localhost:8080/",
          "height": 437
        },
        "outputId": "f952de8a-9ce3-4434-f145-b70f211b8bd0"
      },
      "source": [
        "data.head(2)"
      ],
      "execution_count": 59,
      "outputs": [
        {
          "output_type": "execute_result",
          "data": {
            "text/html": [
              "<div>\n",
              "<style scoped>\n",
              "    .dataframe tbody tr th:only-of-type {\n",
              "        vertical-align: middle;\n",
              "    }\n",
              "\n",
              "    .dataframe tbody tr th {\n",
              "        vertical-align: top;\n",
              "    }\n",
              "\n",
              "    .dataframe thead th {\n",
              "        text-align: right;\n",
              "    }\n",
              "</style>\n",
              "<table border=\"1\" class=\"dataframe\">\n",
              "  <thead>\n",
              "    <tr style=\"text-align: right;\">\n",
              "      <th></th>\n",
              "      <th>Timestamp</th>\n",
              "      <th>What is your name?</th>\n",
              "      <th>Gender</th>\n",
              "      <th>Age</th>\n",
              "      <th>Education Level (Highest level pursued)</th>\n",
              "      <th>What is your profession?</th>\n",
              "      <th>How would you describe the place you live?</th>\n",
              "      <th>What is the time taken (in hours, approximately) for your daily commute between home and work?</th>\n",
              "      <th>What is the mode of your daily commute between home and work?</th>\n",
              "      <th>Are either of your parents from a sports background?</th>\n",
              "      <th>Do you have an older sibling(s) who is/are into sports ? (Play or follow passionately)</th>\n",
              "      <th>Have you played any sport professionally? (Atleast at an Inter-School level)</th>\n",
              "      <th>Is there at least one sports facility near the place you live?</th>\n",
              "      <th>How far is the given facility from the place you live?( Approximately in kilo meters)</th>\n",
              "      <th>Do you have any long-term health issues that have affected your participation in sports events?</th>\n",
              "      <th>If your answer to the previous question was 'Yes', kindly mention the health issue(s)</th>\n",
              "      <th>Which among these do you watch on the TV? (At least 1 complete match a month) (Can select multiple options)</th>\n",
              "      <th>Kindly mention some of your interests besides sports. (Example: Movies, Music, Debate)</th>\n",
              "      <th>How many Indian Premier League (IPL) matches do you watch in a season?</th>\n",
              "      <th>Do you watch international matches?</th>\n",
              "      <th>Do you watch international matches in which India do not participate?</th>\n",
              "      <th>Which of the following formats do you watch? (Can select multiple options)</th>\n",
              "      <th>How early in the Morning would you wake up for a cricket match?</th>\n",
              "      <th>How late in the Night would you stay up for a cricket match?</th>\n",
              "      <th>Which of these leagues do you watch? (Can select multiple options)</th>\n",
              "      <th>How much of Football do you watch generally? (Of the leagues you selected in the previous question)</th>\n",
              "      <th>How early in the Morning would you wake up for a football match?</th>\n",
              "      <th>How late in the Night would you stay up for a football match?</th>\n",
              "      <th>Which of these Grand slams do you watch? (Can select multiple options)</th>\n",
              "      <th>How much of Grand slam Tennis do you watch?</th>\n",
              "      <th>How early in the Morning would you wake up for a tennis match?</th>\n",
              "      <th>How late in the Night would you stay up for a tennis match?</th>\n",
              "      <th>Parents_0</th>\n",
              "      <th>Parents_1</th>\n",
              "      <th>Parents_2</th>\n",
              "      <th>Parents_3</th>\n",
              "      <th>Siblings_0</th>\n",
              "      <th>self_0</th>\n",
              "      <th>self_1</th>\n",
              "      <th>self_2</th>\n",
              "      <th>facility_0</th>\n",
              "      <th>facility_1</th>\n",
              "      <th>facility_2</th>\n",
              "      <th>facility_3</th>\n",
              "      <th>facility_4</th>\n",
              "      <th>facility_5</th>\n",
              "      <th>facility_6</th>\n",
              "      <th>facility_7</th>\n",
              "    </tr>\n",
              "  </thead>\n",
              "  <tbody>\n",
              "    <tr>\n",
              "      <th>0</th>\n",
              "      <td>2021/02/26 8:32:30 pm GMT+5:30</td>\n",
              "      <td>Martin</td>\n",
              "      <td>Male</td>\n",
              "      <td>59.0</td>\n",
              "      <td>Doctorate</td>\n",
              "      <td>Teaching profession</td>\n",
              "      <td>Metropolitan</td>\n",
              "      <td>1.0</td>\n",
              "      <td>Own car, two-wheeler</td>\n",
              "      <td>Yes</td>\n",
              "      <td>No</td>\n",
              "      <td>No</td>\n",
              "      <td>Yes</td>\n",
              "      <td>0.25 km</td>\n",
              "      <td>Yes</td>\n",
              "      <td>Bronchitis</td>\n",
              "      <td>NaN</td>\n",
              "      <td>Music, Debates</td>\n",
              "      <td>NaN</td>\n",
              "      <td>NaN</td>\n",
              "      <td>NaN</td>\n",
              "      <td>NaN</td>\n",
              "      <td>NaN</td>\n",
              "      <td>NaN</td>\n",
              "      <td>NaN</td>\n",
              "      <td>NaN</td>\n",
              "      <td>NaN</td>\n",
              "      <td>NaN</td>\n",
              "      <td>NaN</td>\n",
              "      <td>NaN</td>\n",
              "      <td>NaN</td>\n",
              "      <td>NaN</td>\n",
              "      <td>Basketball</td>\n",
              "      <td>None</td>\n",
              "      <td>None</td>\n",
              "      <td>None</td>\n",
              "      <td>NaN</td>\n",
              "      <td>NaN</td>\n",
              "      <td>NaN</td>\n",
              "      <td>NaN</td>\n",
              "      <td>Basketball</td>\n",
              "      <td>None</td>\n",
              "      <td>None</td>\n",
              "      <td>None</td>\n",
              "      <td>None</td>\n",
              "      <td>None</td>\n",
              "      <td>None</td>\n",
              "      <td>None</td>\n",
              "    </tr>\n",
              "    <tr>\n",
              "      <th>1</th>\n",
              "      <td>2021/02/26 8:58:00 pm GMT+5:30</td>\n",
              "      <td>thomas</td>\n",
              "      <td>Male</td>\n",
              "      <td>29.0</td>\n",
              "      <td>Undergraduate</td>\n",
              "      <td>Student</td>\n",
              "      <td>Metropolitan</td>\n",
              "      <td>1.0</td>\n",
              "      <td>Own car, two-wheeler</td>\n",
              "      <td>No</td>\n",
              "      <td>No</td>\n",
              "      <td>No</td>\n",
              "      <td>No</td>\n",
              "      <td>NaN</td>\n",
              "      <td>No</td>\n",
              "      <td>NaN</td>\n",
              "      <td>chess</td>\n",
              "      <td>reading</td>\n",
              "      <td>NaN</td>\n",
              "      <td>NaN</td>\n",
              "      <td>NaN</td>\n",
              "      <td>NaN</td>\n",
              "      <td>NaN</td>\n",
              "      <td>NaN</td>\n",
              "      <td>NaN</td>\n",
              "      <td>NaN</td>\n",
              "      <td>NaN</td>\n",
              "      <td>NaN</td>\n",
              "      <td>NaN</td>\n",
              "      <td>NaN</td>\n",
              "      <td>NaN</td>\n",
              "      <td>NaN</td>\n",
              "      <td>NaN</td>\n",
              "      <td>NaN</td>\n",
              "      <td>NaN</td>\n",
              "      <td>NaN</td>\n",
              "      <td>NaN</td>\n",
              "      <td>NaN</td>\n",
              "      <td>NaN</td>\n",
              "      <td>NaN</td>\n",
              "      <td>NaN</td>\n",
              "      <td>NaN</td>\n",
              "      <td>NaN</td>\n",
              "      <td>NaN</td>\n",
              "      <td>NaN</td>\n",
              "      <td>NaN</td>\n",
              "      <td>NaN</td>\n",
              "      <td>NaN</td>\n",
              "    </tr>\n",
              "  </tbody>\n",
              "</table>\n",
              "</div>"
            ],
            "text/plain": [
              "                        Timestamp What is your name?  ... facility_6  facility_7\n",
              "0  2021/02/26 8:32:30 pm GMT+5:30             Martin  ...       None        None\n",
              "1  2021/02/26 8:58:00 pm GMT+5:30             thomas  ...        NaN         NaN\n",
              "\n",
              "[2 rows x 48 columns]"
            ]
          },
          "metadata": {
            "tags": []
          },
          "execution_count": 59
        }
      ]
    },
    {
      "cell_type": "code",
      "metadata": {
        "colab": {
          "base_uri": "https://localhost:8080/"
        },
        "id": "BcYq6ZtXKFob",
        "outputId": "20fad4d0-e025-4e65-cb96-cb7b0bc09d63"
      },
      "source": [
        "#health issues column\n",
        "data['Do you have any long-term health issues that have affected your participation in sports events?'].unique()"
      ],
      "execution_count": 60,
      "outputs": [
        {
          "output_type": "execute_result",
          "data": {
            "text/plain": [
              "array(['Yes', 'No', nan], dtype=object)"
            ]
          },
          "metadata": {
            "tags": []
          },
          "execution_count": 60
        }
      ]
    },
    {
      "cell_type": "code",
      "metadata": {
        "colab": {
          "base_uri": "https://localhost:8080/"
        },
        "id": "SOo3SLvqKFod",
        "outputId": "befea6fa-19c7-494d-8892-d1dc6b7692ba"
      },
      "source": [
        "#summary of health issues column\n",
        "data['Do you have any long-term health issues that have affected your participation in sports events?'].describe()"
      ],
      "execution_count": 61,
      "outputs": [
        {
          "output_type": "execute_result",
          "data": {
            "text/plain": [
              "count     168\n",
              "unique      2\n",
              "top        No\n",
              "freq      152\n",
              "Name: Do you have any long-term health issues that have affected your participation in sports events?, dtype: object"
            ]
          },
          "metadata": {
            "tags": []
          },
          "execution_count": 61
        }
      ]
    },
    {
      "cell_type": "code",
      "metadata": {
        "colab": {
          "base_uri": "https://localhost:8080/",
          "height": 350
        },
        "id": "I_UL_nYRKFod",
        "outputId": "bd95c614-6c12-46b8-a724-af52c9cda6e8"
      },
      "source": [
        "#countplot of health issues column\n",
        "sns.countplot(data['Do you have any long-term health issues that have affected your participation in sports events?'])"
      ],
      "execution_count": 62,
      "outputs": [
        {
          "output_type": "stream",
          "text": [
            "/usr/local/lib/python3.7/dist-packages/seaborn/_decorators.py:43: FutureWarning: Pass the following variable as a keyword arg: x. From version 0.12, the only valid positional argument will be `data`, and passing other arguments without an explicit keyword will result in an error or misinterpretation.\n",
            "  FutureWarning\n"
          ],
          "name": "stderr"
        },
        {
          "output_type": "execute_result",
          "data": {
            "text/plain": [
              "<matplotlib.axes._subplots.AxesSubplot at 0x7fdae4e62f10>"
            ]
          },
          "metadata": {
            "tags": []
          },
          "execution_count": 62
        },
        {
          "output_type": "display_data",
          "data": {
            "image/png": "[encoded data removed]",
            "text/plain": [
              "<Figure size 432x288 with 1 Axes>"
            ]
          },
          "metadata": {
            "tags": [],
            "needs_background": "light"
          }
        }
      ]
    },
    {
      "cell_type": "code",
      "metadata": {
        "id": "in9goFv4KWhe"
      },
      "source": [
        "#extract only the numeric part of distance from sports facility\n",
        "data['How far is the given facility from the place you live?( Approximately in kilo meters)']=data['How far is the given facility from the place you live?( Approximately in kilo meters)'].str.extract('(\\d+)')"
      ],
      "execution_count": 63,
      "outputs": []
    },
    {
      "cell_type": "code",
      "metadata": {
        "id": "3bWkyljFKsl4"
      },
      "source": [
        "#convert to numeric type\n",
        "data['How far is the given facility from the place you live?( Approximately in kilo meters)']=data['How far is the given facility from the place you live?( Approximately in kilo meters)'].astype('float')"
      ],
      "execution_count": 64,
      "outputs": []
    },
    {
      "cell_type": "code",
      "metadata": {
        "colab": {
          "base_uri": "https://localhost:8080/"
        },
        "id": "OcX_Z8SNKzi-",
        "outputId": "d872c8bc-8447-46db-ad3a-787b3af80ce0"
      },
      "source": [
        "#summary of distance from facility column\n",
        "data['How far is the given facility from the place you live?( Approximately in kilo meters)'].describe()"
      ],
      "execution_count": 65,
      "outputs": [
        {
          "output_type": "execute_result",
          "data": {
            "text/plain": [
              "count    116.000000\n",
              "mean      21.163793\n",
              "std       91.547369\n",
              "min        0.000000\n",
              "25%        1.000000\n",
              "50%        2.000000\n",
              "75%        3.250000\n",
              "max      500.000000\n",
              "Name: How far is the given facility from the place you live?( Approximately in kilo meters), dtype: float64"
            ]
          },
          "metadata": {
            "tags": []
          },
          "execution_count": 65
        }
      ]
    },
    {
      "cell_type": "code",
      "metadata": {
        "id": "bcTFslIwLG7T"
      },
      "source": [
        "#Clean the distance from facility column by removing unlikely values\n",
        "l=list(np.where(data['How far is the given facility from the place you live?( Approximately in kilo meters)']>=6)[0])\n",
        "for i in l:\n",
        "  data.loc[i,'How far is the given facility from the place you live?( Approximately in kilo meters)']=2"
      ],
      "execution_count": 66,
      "outputs": []
    },
    {
      "cell_type": "code",
      "metadata": {
        "id": "LDg7qJuKLZgA"
      },
      "source": [
        "#split the health issues column into separate columns at the commas\n",
        "data = pd.concat([data.drop(columns=[\"If your answer to the previous question was 'Yes', kindly mention the health issue(s)\"]), data[\"If your answer to the previous question was 'Yes', kindly mention the health issue(s)\"].str.split(', ', expand=True)], axis=1)"
      ],
      "execution_count": 67,
      "outputs": []
    },
    {
      "cell_type": "code",
      "metadata": {
        "colab": {
          "base_uri": "https://localhost:8080/",
          "height": 437
        },
        "id": "onzkA-KVMUjb",
        "outputId": "9ee3833f-2621-4e9e-e252-cba78dbe2cf1"
      },
      "source": [
        "data.head(2)"
      ],
      "execution_count": 68,
      "outputs": [
        {
          "output_type": "execute_result",
          "data": {
            "text/html": [
              "<div>\n",
              "<style scoped>\n",
              "    .dataframe tbody tr th:only-of-type {\n",
              "        vertical-align: middle;\n",
              "    }\n",
              "\n",
              "    .dataframe tbody tr th {\n",
              "        vertical-align: top;\n",
              "    }\n",
              "\n",
              "    .dataframe thead th {\n",
              "        text-align: right;\n",
              "    }\n",
              "</style>\n",
              "<table border=\"1\" class=\"dataframe\">\n",
              "  <thead>\n",
              "    <tr style=\"text-align: right;\">\n",
              "      <th></th>\n",
              "      <th>Timestamp</th>\n",
              "      <th>What is your name?</th>\n",
              "      <th>Gender</th>\n",
              "      <th>Age</th>\n",
              "      <th>Education Level (Highest level pursued)</th>\n",
              "      <th>What is your profession?</th>\n",
              "      <th>How would you describe the place you live?</th>\n",
              "      <th>What is the time taken (in hours, approximately) for your daily commute between home and work?</th>\n",
              "      <th>What is the mode of your daily commute between home and work?</th>\n",
              "      <th>Are either of your parents from a sports background?</th>\n",
              "      <th>Do you have an older sibling(s) who is/are into sports ? (Play or follow passionately)</th>\n",
              "      <th>Have you played any sport professionally? (Atleast at an Inter-School level)</th>\n",
              "      <th>Is there at least one sports facility near the place you live?</th>\n",
              "      <th>How far is the given facility from the place you live?( Approximately in kilo meters)</th>\n",
              "      <th>Do you have any long-term health issues that have affected your participation in sports events?</th>\n",
              "      <th>Which among these do you watch on the TV? (At least 1 complete match a month) (Can select multiple options)</th>\n",
              "      <th>Kindly mention some of your interests besides sports. (Example: Movies, Music, Debate)</th>\n",
              "      <th>How many Indian Premier League (IPL) matches do you watch in a season?</th>\n",
              "      <th>Do you watch international matches?</th>\n",
              "      <th>Do you watch international matches in which India do not participate?</th>\n",
              "      <th>Which of the following formats do you watch? (Can select multiple options)</th>\n",
              "      <th>How early in the Morning would you wake up for a cricket match?</th>\n",
              "      <th>How late in the Night would you stay up for a cricket match?</th>\n",
              "      <th>Which of these leagues do you watch? (Can select multiple options)</th>\n",
              "      <th>How much of Football do you watch generally? (Of the leagues you selected in the previous question)</th>\n",
              "      <th>How early in the Morning would you wake up for a football match?</th>\n",
              "      <th>How late in the Night would you stay up for a football match?</th>\n",
              "      <th>Which of these Grand slams do you watch? (Can select multiple options)</th>\n",
              "      <th>How much of Grand slam Tennis do you watch?</th>\n",
              "      <th>How early in the Morning would you wake up for a tennis match?</th>\n",
              "      <th>How late in the Night would you stay up for a tennis match?</th>\n",
              "      <th>Parents_0</th>\n",
              "      <th>Parents_1</th>\n",
              "      <th>Parents_2</th>\n",
              "      <th>Parents_3</th>\n",
              "      <th>Siblings_0</th>\n",
              "      <th>self_0</th>\n",
              "      <th>self_1</th>\n",
              "      <th>self_2</th>\n",
              "      <th>facility_0</th>\n",
              "      <th>facility_1</th>\n",
              "      <th>facility_2</th>\n",
              "      <th>facility_3</th>\n",
              "      <th>facility_4</th>\n",
              "      <th>facility_5</th>\n",
              "      <th>facility_6</th>\n",
              "      <th>facility_7</th>\n",
              "      <th>0</th>\n",
              "      <th>1</th>\n",
              "    </tr>\n",
              "  </thead>\n",
              "  <tbody>\n",
              "    <tr>\n",
              "      <th>0</th>\n",
              "      <td>2021/02/26 8:32:30 pm GMT+5:30</td>\n",
              "      <td>Martin</td>\n",
              "      <td>Male</td>\n",
              "      <td>59.0</td>\n",
              "      <td>Doctorate</td>\n",
              "      <td>Teaching profession</td>\n",
              "      <td>Metropolitan</td>\n",
              "      <td>1.0</td>\n",
              "      <td>Own car, two-wheeler</td>\n",
              "      <td>Yes</td>\n",
              "      <td>No</td>\n",
              "      <td>No</td>\n",
              "      <td>Yes</td>\n",
              "      <td>0.0</td>\n",
              "      <td>Yes</td>\n",
              "      <td>NaN</td>\n",
              "      <td>Music, Debates</td>\n",
              "      <td>NaN</td>\n",
              "      <td>NaN</td>\n",
              "      <td>NaN</td>\n",
              "      <td>NaN</td>\n",
              "      <td>NaN</td>\n",
              "      <td>NaN</td>\n",
              "      <td>NaN</td>\n",
              "      <td>NaN</td>\n",
              "      <td>NaN</td>\n",
              "      <td>NaN</td>\n",
              "      <td>NaN</td>\n",
              "      <td>NaN</td>\n",
              "      <td>NaN</td>\n",
              "      <td>NaN</td>\n",
              "      <td>Basketball</td>\n",
              "      <td>None</td>\n",
              "      <td>None</td>\n",
              "      <td>None</td>\n",
              "      <td>NaN</td>\n",
              "      <td>NaN</td>\n",
              "      <td>NaN</td>\n",
              "      <td>NaN</td>\n",
              "      <td>Basketball</td>\n",
              "      <td>None</td>\n",
              "      <td>None</td>\n",
              "      <td>None</td>\n",
              "      <td>None</td>\n",
              "      <td>None</td>\n",
              "      <td>None</td>\n",
              "      <td>None</td>\n",
              "      <td>Bronchitis</td>\n",
              "      <td>None</td>\n",
              "    </tr>\n",
              "    <tr>\n",
              "      <th>1</th>\n",
              "      <td>2021/02/26 8:58:00 pm GMT+5:30</td>\n",
              "      <td>thomas</td>\n",
              "      <td>Male</td>\n",
              "      <td>29.0</td>\n",
              "      <td>Undergraduate</td>\n",
              "      <td>Student</td>\n",
              "      <td>Metropolitan</td>\n",
              "      <td>1.0</td>\n",
              "      <td>Own car, two-wheeler</td>\n",
              "      <td>No</td>\n",
              "      <td>No</td>\n",
              "      <td>No</td>\n",
              "      <td>No</td>\n",
              "      <td>NaN</td>\n",
              "      <td>No</td>\n",
              "      <td>chess</td>\n",
              "      <td>reading</td>\n",
              "      <td>NaN</td>\n",
              "      <td>NaN</td>\n",
              "      <td>NaN</td>\n",
              "      <td>NaN</td>\n",
              "      <td>NaN</td>\n",
              "      <td>NaN</td>\n",
              "      <td>NaN</td>\n",
              "      <td>NaN</td>\n",
              "      <td>NaN</td>\n",
              "      <td>NaN</td>\n",
              "      <td>NaN</td>\n",
              "      <td>NaN</td>\n",
              "      <td>NaN</td>\n",
              "      <td>NaN</td>\n",
              "      <td>NaN</td>\n",
              "      <td>NaN</td>\n",
              "      <td>NaN</td>\n",
              "      <td>NaN</td>\n",
              "      <td>NaN</td>\n",
              "      <td>NaN</td>\n",
              "      <td>NaN</td>\n",
              "      <td>NaN</td>\n",
              "      <td>NaN</td>\n",
              "      <td>NaN</td>\n",
              "      <td>NaN</td>\n",
              "      <td>NaN</td>\n",
              "      <td>NaN</td>\n",
              "      <td>NaN</td>\n",
              "      <td>NaN</td>\n",
              "      <td>NaN</td>\n",
              "      <td>NaN</td>\n",
              "      <td>NaN</td>\n",
              "    </tr>\n",
              "  </tbody>\n",
              "</table>\n",
              "</div>"
            ],
            "text/plain": [
              "                        Timestamp What is your name?  ...           0     1\n",
              "0  2021/02/26 8:32:30 pm GMT+5:30             Martin  ...  Bronchitis  None\n",
              "1  2021/02/26 8:58:00 pm GMT+5:30             thomas  ...         NaN   NaN\n",
              "\n",
              "[2 rows x 49 columns]"
            ]
          },
          "metadata": {
            "tags": []
          },
          "execution_count": 68
        }
      ]
    },
    {
      "cell_type": "code",
      "metadata": {
        "id": "PsRW-A3pM-Ac"
      },
      "source": [
        "#rename the new columns\n",
        "for i in range(2):\n",
        "  data.rename(columns={i:'health_'+str(i)},inplace=True)"
      ],
      "execution_count": 69,
      "outputs": []
    },
    {
      "cell_type": "code",
      "metadata": {
        "id": "zabKTVpeNNyy"
      },
      "source": [
        "#tv sports watching column is split into new columns \n",
        "data = pd.concat([data.drop(columns=[\"Which among these do you watch on the TV? (At least 1 complete match a month) (Can select multiple options)\"]), data[\"Which among these do you watch on the TV? (At least 1 complete match a month) (Can select multiple options)\"].str.split(', ', expand=True)], axis=1)"
      ],
      "execution_count": 70,
      "outputs": []
    },
    {
      "cell_type": "code",
      "metadata": {
        "id": "TLDM0VG-Nmbu"
      },
      "source": [
        "#rename the new columns\n",
        "for i in range(2):\n",
        "  data.rename(columns={i:'tv_sports_watch_'+str(i)},inplace=True)"
      ],
      "execution_count": 71,
      "outputs": []
    },
    {
      "cell_type": "code",
      "metadata": {
        "id": "BQTjSTxvPIS_"
      },
      "source": [
        "#hobbies column is split into separate columns\n",
        "data = pd.concat([data.drop(columns=[\"Kindly mention some of your interests besides sports. (Example: Movies, Music, Debate)\"]), data[\"Kindly mention some of your interests besides sports. (Example: Movies, Music, Debate)\"].str.split(', ', expand=True)], axis=1)"
      ],
      "execution_count": 72,
      "outputs": []
    },
    {
      "cell_type": "code",
      "metadata": {
        "id": "Pl8tiWnKOsJS"
      },
      "source": [
        "#rename the new columns\n",
        "for i in range(5):\n",
        "  data.rename(columns={i:'hobbies_'+str(i)},inplace=True)"
      ],
      "execution_count": 73,
      "outputs": []
    },
    {
      "cell_type": "code",
      "metadata": {
        "id": "wvxfDa04PtsU"
      },
      "source": [
        "#split the cricket formats column\n",
        "data = pd.concat([data.drop(columns=[\"Which of the following formats do you watch? (Can select multiple options)\"]), data[\"Which of the following formats do you watch? (Can select multiple options)\"].str.split(', ', expand=True)], axis=1)"
      ],
      "execution_count": 74,
      "outputs": []
    },
    {
      "cell_type": "code",
      "metadata": {
        "id": "eUZDLwakQVjJ"
      },
      "source": [
        "data = pd.concat([data.drop(columns=[0]), data[0].str.split(';', expand=True)], axis=1)"
      ],
      "execution_count": 75,
      "outputs": []
    },
    {
      "cell_type": "code",
      "metadata": {
        "id": "B9kILCOwPqdf"
      },
      "source": [
        "#rename the new columns\n",
        "for i in range(3):\n",
        "  data.rename(columns={i:'cricket_formats_'+str(i)},inplace=True)"
      ],
      "execution_count": 76,
      "outputs": []
    },
    {
      "cell_type": "code",
      "metadata": {
        "colab": {
          "base_uri": "https://localhost:8080/",
          "height": 403
        },
        "id": "hjPKWGWzP2nK",
        "outputId": "73903639-d85e-4615-ce63-f1c323644b7a"
      },
      "source": [
        "data.head(2)"
      ],
      "execution_count": 77,
      "outputs": [
        {
          "output_type": "execute_result",
          "data": {
            "text/html": [
              "<div>\n",
              "<style scoped>\n",
              "    .dataframe tbody tr th:only-of-type {\n",
              "        vertical-align: middle;\n",
              "    }\n",
              "\n",
              "    .dataframe tbody tr th {\n",
              "        vertical-align: top;\n",
              "    }\n",
              "\n",
              "    .dataframe thead th {\n",
              "        text-align: right;\n",
              "    }\n",
              "</style>\n",
              "<table border=\"1\" class=\"dataframe\">\n",
              "  <thead>\n",
              "    <tr style=\"text-align: right;\">\n",
              "      <th></th>\n",
              "      <th>Timestamp</th>\n",
              "      <th>What is your name?</th>\n",
              "      <th>Gender</th>\n",
              "      <th>Age</th>\n",
              "      <th>Education Level (Highest level pursued)</th>\n",
              "      <th>What is your profession?</th>\n",
              "      <th>How would you describe the place you live?</th>\n",
              "      <th>What is the time taken (in hours, approximately) for your daily commute between home and work?</th>\n",
              "      <th>What is the mode of your daily commute between home and work?</th>\n",
              "      <th>Are either of your parents from a sports background?</th>\n",
              "      <th>Do you have an older sibling(s) who is/are into sports ? (Play or follow passionately)</th>\n",
              "      <th>Have you played any sport professionally? (Atleast at an Inter-School level)</th>\n",
              "      <th>Is there at least one sports facility near the place you live?</th>\n",
              "      <th>How far is the given facility from the place you live?( Approximately in kilo meters)</th>\n",
              "      <th>Do you have any long-term health issues that have affected your participation in sports events?</th>\n",
              "      <th>How many Indian Premier League (IPL) matches do you watch in a season?</th>\n",
              "      <th>Do you watch international matches?</th>\n",
              "      <th>Do you watch international matches in which India do not participate?</th>\n",
              "      <th>How early in the Morning would you wake up for a cricket match?</th>\n",
              "      <th>How late in the Night would you stay up for a cricket match?</th>\n",
              "      <th>Which of these leagues do you watch? (Can select multiple options)</th>\n",
              "      <th>How much of Football do you watch generally? (Of the leagues you selected in the previous question)</th>\n",
              "      <th>How early in the Morning would you wake up for a football match?</th>\n",
              "      <th>How late in the Night would you stay up for a football match?</th>\n",
              "      <th>Which of these Grand slams do you watch? (Can select multiple options)</th>\n",
              "      <th>How much of Grand slam Tennis do you watch?</th>\n",
              "      <th>How early in the Morning would you wake up for a tennis match?</th>\n",
              "      <th>How late in the Night would you stay up for a tennis match?</th>\n",
              "      <th>Parents_0</th>\n",
              "      <th>Parents_1</th>\n",
              "      <th>Parents_2</th>\n",
              "      <th>Parents_3</th>\n",
              "      <th>Siblings_0</th>\n",
              "      <th>self_0</th>\n",
              "      <th>self_1</th>\n",
              "      <th>self_2</th>\n",
              "      <th>facility_0</th>\n",
              "      <th>facility_1</th>\n",
              "      <th>facility_2</th>\n",
              "      <th>facility_3</th>\n",
              "      <th>facility_4</th>\n",
              "      <th>facility_5</th>\n",
              "      <th>facility_6</th>\n",
              "      <th>facility_7</th>\n",
              "      <th>health_0</th>\n",
              "      <th>health_1</th>\n",
              "      <th>tv_sports_watch_0</th>\n",
              "      <th>tv_sports_watch_1</th>\n",
              "      <th>hobbies_0</th>\n",
              "      <th>hobbies_1</th>\n",
              "      <th>hobbies_2</th>\n",
              "      <th>hobbies_3</th>\n",
              "      <th>hobbies_4</th>\n",
              "      <th>cricket_formats_0</th>\n",
              "      <th>cricket_formats_1</th>\n",
              "      <th>cricket_formats_2</th>\n",
              "    </tr>\n",
              "  </thead>\n",
              "  <tbody>\n",
              "    <tr>\n",
              "      <th>0</th>\n",
              "      <td>2021/02/26 8:32:30 pm GMT+5:30</td>\n",
              "      <td>Martin</td>\n",
              "      <td>Male</td>\n",
              "      <td>59.0</td>\n",
              "      <td>Doctorate</td>\n",
              "      <td>Teaching profession</td>\n",
              "      <td>Metropolitan</td>\n",
              "      <td>1.0</td>\n",
              "      <td>Own car, two-wheeler</td>\n",
              "      <td>Yes</td>\n",
              "      <td>No</td>\n",
              "      <td>No</td>\n",
              "      <td>Yes</td>\n",
              "      <td>0.0</td>\n",
              "      <td>Yes</td>\n",
              "      <td>NaN</td>\n",
              "      <td>NaN</td>\n",
              "      <td>NaN</td>\n",
              "      <td>NaN</td>\n",
              "      <td>NaN</td>\n",
              "      <td>NaN</td>\n",
              "      <td>NaN</td>\n",
              "      <td>NaN</td>\n",
              "      <td>NaN</td>\n",
              "      <td>NaN</td>\n",
              "      <td>NaN</td>\n",
              "      <td>NaN</td>\n",
              "      <td>NaN</td>\n",
              "      <td>Basketball</td>\n",
              "      <td>None</td>\n",
              "      <td>None</td>\n",
              "      <td>None</td>\n",
              "      <td>NaN</td>\n",
              "      <td>NaN</td>\n",
              "      <td>NaN</td>\n",
              "      <td>NaN</td>\n",
              "      <td>Basketball</td>\n",
              "      <td>None</td>\n",
              "      <td>None</td>\n",
              "      <td>None</td>\n",
              "      <td>None</td>\n",
              "      <td>None</td>\n",
              "      <td>None</td>\n",
              "      <td>None</td>\n",
              "      <td>Bronchitis</td>\n",
              "      <td>None</td>\n",
              "      <td>NaN</td>\n",
              "      <td>NaN</td>\n",
              "      <td>Music</td>\n",
              "      <td>Debates</td>\n",
              "      <td>None</td>\n",
              "      <td>None</td>\n",
              "      <td>None</td>\n",
              "      <td>NaN</td>\n",
              "      <td>NaN</td>\n",
              "      <td>NaN</td>\n",
              "    </tr>\n",
              "    <tr>\n",
              "      <th>1</th>\n",
              "      <td>2021/02/26 8:58:00 pm GMT+5:30</td>\n",
              "      <td>thomas</td>\n",
              "      <td>Male</td>\n",
              "      <td>29.0</td>\n",
              "      <td>Undergraduate</td>\n",
              "      <td>Student</td>\n",
              "      <td>Metropolitan</td>\n",
              "      <td>1.0</td>\n",
              "      <td>Own car, two-wheeler</td>\n",
              "      <td>No</td>\n",
              "      <td>No</td>\n",
              "      <td>No</td>\n",
              "      <td>No</td>\n",
              "      <td>NaN</td>\n",
              "      <td>No</td>\n",
              "      <td>NaN</td>\n",
              "      <td>NaN</td>\n",
              "      <td>NaN</td>\n",
              "      <td>NaN</td>\n",
              "      <td>NaN</td>\n",
              "      <td>NaN</td>\n",
              "      <td>NaN</td>\n",
              "      <td>NaN</td>\n",
              "      <td>NaN</td>\n",
              "      <td>NaN</td>\n",
              "      <td>NaN</td>\n",
              "      <td>NaN</td>\n",
              "      <td>NaN</td>\n",
              "      <td>NaN</td>\n",
              "      <td>NaN</td>\n",
              "      <td>NaN</td>\n",
              "      <td>NaN</td>\n",
              "      <td>NaN</td>\n",
              "      <td>NaN</td>\n",
              "      <td>NaN</td>\n",
              "      <td>NaN</td>\n",
              "      <td>NaN</td>\n",
              "      <td>NaN</td>\n",
              "      <td>NaN</td>\n",
              "      <td>NaN</td>\n",
              "      <td>NaN</td>\n",
              "      <td>NaN</td>\n",
              "      <td>NaN</td>\n",
              "      <td>NaN</td>\n",
              "      <td>NaN</td>\n",
              "      <td>NaN</td>\n",
              "      <td>chess</td>\n",
              "      <td>None</td>\n",
              "      <td>reading</td>\n",
              "      <td>None</td>\n",
              "      <td>None</td>\n",
              "      <td>None</td>\n",
              "      <td>None</td>\n",
              "      <td>NaN</td>\n",
              "      <td>NaN</td>\n",
              "      <td>NaN</td>\n",
              "    </tr>\n",
              "  </tbody>\n",
              "</table>\n",
              "</div>"
            ],
            "text/plain": [
              "                        Timestamp  ... cricket_formats_2\n",
              "0  2021/02/26 8:32:30 pm GMT+5:30  ...               NaN\n",
              "1  2021/02/26 8:58:00 pm GMT+5:30  ...               NaN\n",
              "\n",
              "[2 rows x 56 columns]"
            ]
          },
          "metadata": {
            "tags": []
          },
          "execution_count": 77
        }
      ]
    },
    {
      "cell_type": "code",
      "metadata": {
        "id": "6TonhKFNRFoT"
      },
      "source": [
        "#split the football leagues column\n",
        "data = pd.concat([data.drop(columns=[\"Which of these leagues do you watch? (Can select multiple options)\"]), data[\"Which of these leagues do you watch? (Can select multiple options)\"].str.split(';', expand=True)], axis=1)"
      ],
      "execution_count": 78,
      "outputs": []
    },
    {
      "cell_type": "code",
      "metadata": {
        "id": "jueG2r8LRLXQ"
      },
      "source": [
        "#rename the new columns\n",
        "for i in range(5):\n",
        "  data.rename(columns={i:'football_leagues_'+str(i)},inplace=True)"
      ],
      "execution_count": 79,
      "outputs": []
    },
    {
      "cell_type": "code",
      "metadata": {
        "id": "ntLOj78-Ro6y"
      },
      "source": [
        "#split the grandslams column\n",
        "data = pd.concat([data.drop(columns=[\"Which of these Grand slams do you watch? (Can select multiple options)\"]), data[\"Which of these Grand slams do you watch? (Can select multiple options)\"].str.split(';', expand=True)], axis=1)"
      ],
      "execution_count": 80,
      "outputs": []
    },
    {
      "cell_type": "code",
      "metadata": {
        "id": "o45jC2vdRsj4"
      },
      "source": [
        "#rename the new columns\n",
        "for i in range(4):\n",
        "  data.rename(columns={i:'grand_slams_'+str(i)},inplace=True)"
      ],
      "execution_count": 81,
      "outputs": []
    },
    {
      "cell_type": "code",
      "metadata": {
        "colab": {
          "base_uri": "https://localhost:8080/",
          "height": 403
        },
        "id": "ASYXlp0sR7Tt",
        "outputId": "b1c8b9de-a161-42ca-ec31-a63960448d1b"
      },
      "source": [
        "data.head(2)"
      ],
      "execution_count": 82,
      "outputs": [
        {
          "output_type": "execute_result",
          "data": {
            "text/html": [
              "<div>\n",
              "<style scoped>\n",
              "    .dataframe tbody tr th:only-of-type {\n",
              "        vertical-align: middle;\n",
              "    }\n",
              "\n",
              "    .dataframe tbody tr th {\n",
              "        vertical-align: top;\n",
              "    }\n",
              "\n",
              "    .dataframe thead th {\n",
              "        text-align: right;\n",
              "    }\n",
              "</style>\n",
              "<table border=\"1\" class=\"dataframe\">\n",
              "  <thead>\n",
              "    <tr style=\"text-align: right;\">\n",
              "      <th></th>\n",
              "      <th>Timestamp</th>\n",
              "      <th>What is your name?</th>\n",
              "      <th>Gender</th>\n",
              "      <th>Age</th>\n",
              "      <th>Education Level (Highest level pursued)</th>\n",
              "      <th>What is your profession?</th>\n",
              "      <th>How would you describe the place you live?</th>\n",
              "      <th>What is the time taken (in hours, approximately) for your daily commute between home and work?</th>\n",
              "      <th>What is the mode of your daily commute between home and work?</th>\n",
              "      <th>Are either of your parents from a sports background?</th>\n",
              "      <th>Do you have an older sibling(s) who is/are into sports ? (Play or follow passionately)</th>\n",
              "      <th>Have you played any sport professionally? (Atleast at an Inter-School level)</th>\n",
              "      <th>Is there at least one sports facility near the place you live?</th>\n",
              "      <th>How far is the given facility from the place you live?( Approximately in kilo meters)</th>\n",
              "      <th>Do you have any long-term health issues that have affected your participation in sports events?</th>\n",
              "      <th>How many Indian Premier League (IPL) matches do you watch in a season?</th>\n",
              "      <th>Do you watch international matches?</th>\n",
              "      <th>Do you watch international matches in which India do not participate?</th>\n",
              "      <th>How early in the Morning would you wake up for a cricket match?</th>\n",
              "      <th>How late in the Night would you stay up for a cricket match?</th>\n",
              "      <th>How much of Football do you watch generally? (Of the leagues you selected in the previous question)</th>\n",
              "      <th>How early in the Morning would you wake up for a football match?</th>\n",
              "      <th>How late in the Night would you stay up for a football match?</th>\n",
              "      <th>How much of Grand slam Tennis do you watch?</th>\n",
              "      <th>How early in the Morning would you wake up for a tennis match?</th>\n",
              "      <th>How late in the Night would you stay up for a tennis match?</th>\n",
              "      <th>Parents_0</th>\n",
              "      <th>Parents_1</th>\n",
              "      <th>Parents_2</th>\n",
              "      <th>Parents_3</th>\n",
              "      <th>Siblings_0</th>\n",
              "      <th>self_0</th>\n",
              "      <th>self_1</th>\n",
              "      <th>self_2</th>\n",
              "      <th>facility_0</th>\n",
              "      <th>facility_1</th>\n",
              "      <th>facility_2</th>\n",
              "      <th>facility_3</th>\n",
              "      <th>facility_4</th>\n",
              "      <th>facility_5</th>\n",
              "      <th>facility_6</th>\n",
              "      <th>facility_7</th>\n",
              "      <th>health_0</th>\n",
              "      <th>health_1</th>\n",
              "      <th>tv_sports_watch_0</th>\n",
              "      <th>tv_sports_watch_1</th>\n",
              "      <th>hobbies_0</th>\n",
              "      <th>hobbies_1</th>\n",
              "      <th>hobbies_2</th>\n",
              "      <th>hobbies_3</th>\n",
              "      <th>hobbies_4</th>\n",
              "      <th>cricket_formats_0</th>\n",
              "      <th>cricket_formats_1</th>\n",
              "      <th>cricket_formats_2</th>\n",
              "      <th>football_leagues_0</th>\n",
              "      <th>football_leagues_1</th>\n",
              "      <th>football_leagues_2</th>\n",
              "      <th>football_leagues_3</th>\n",
              "      <th>football_leagues_4</th>\n",
              "      <th>grand_slams_0</th>\n",
              "      <th>grand_slams_1</th>\n",
              "      <th>grand_slams_2</th>\n",
              "      <th>grand_slams_3</th>\n",
              "    </tr>\n",
              "  </thead>\n",
              "  <tbody>\n",
              "    <tr>\n",
              "      <th>0</th>\n",
              "      <td>2021/02/26 8:32:30 pm GMT+5:30</td>\n",
              "      <td>Martin</td>\n",
              "      <td>Male</td>\n",
              "      <td>59.0</td>\n",
              "      <td>Doctorate</td>\n",
              "      <td>Teaching profession</td>\n",
              "      <td>Metropolitan</td>\n",
              "      <td>1.0</td>\n",
              "      <td>Own car, two-wheeler</td>\n",
              "      <td>Yes</td>\n",
              "      <td>No</td>\n",
              "      <td>No</td>\n",
              "      <td>Yes</td>\n",
              "      <td>0.0</td>\n",
              "      <td>Yes</td>\n",
              "      <td>NaN</td>\n",
              "      <td>NaN</td>\n",
              "      <td>NaN</td>\n",
              "      <td>NaN</td>\n",
              "      <td>NaN</td>\n",
              "      <td>NaN</td>\n",
              "      <td>NaN</td>\n",
              "      <td>NaN</td>\n",
              "      <td>NaN</td>\n",
              "      <td>NaN</td>\n",
              "      <td>NaN</td>\n",
              "      <td>Basketball</td>\n",
              "      <td>None</td>\n",
              "      <td>None</td>\n",
              "      <td>None</td>\n",
              "      <td>NaN</td>\n",
              "      <td>NaN</td>\n",
              "      <td>NaN</td>\n",
              "      <td>NaN</td>\n",
              "      <td>Basketball</td>\n",
              "      <td>None</td>\n",
              "      <td>None</td>\n",
              "      <td>None</td>\n",
              "      <td>None</td>\n",
              "      <td>None</td>\n",
              "      <td>None</td>\n",
              "      <td>None</td>\n",
              "      <td>Bronchitis</td>\n",
              "      <td>None</td>\n",
              "      <td>NaN</td>\n",
              "      <td>NaN</td>\n",
              "      <td>Music</td>\n",
              "      <td>Debates</td>\n",
              "      <td>None</td>\n",
              "      <td>None</td>\n",
              "      <td>None</td>\n",
              "      <td>NaN</td>\n",
              "      <td>NaN</td>\n",
              "      <td>NaN</td>\n",
              "      <td>NaN</td>\n",
              "      <td>NaN</td>\n",
              "      <td>NaN</td>\n",
              "      <td>NaN</td>\n",
              "      <td>NaN</td>\n",
              "      <td>NaN</td>\n",
              "      <td>NaN</td>\n",
              "      <td>NaN</td>\n",
              "      <td>NaN</td>\n",
              "    </tr>\n",
              "    <tr>\n",
              "      <th>1</th>\n",
              "      <td>2021/02/26 8:58:00 pm GMT+5:30</td>\n",
              "      <td>thomas</td>\n",
              "      <td>Male</td>\n",
              "      <td>29.0</td>\n",
              "      <td>Undergraduate</td>\n",
              "      <td>Student</td>\n",
              "      <td>Metropolitan</td>\n",
              "      <td>1.0</td>\n",
              "      <td>Own car, two-wheeler</td>\n",
              "      <td>No</td>\n",
              "      <td>No</td>\n",
              "      <td>No</td>\n",
              "      <td>No</td>\n",
              "      <td>NaN</td>\n",
              "      <td>No</td>\n",
              "      <td>NaN</td>\n",
              "      <td>NaN</td>\n",
              "      <td>NaN</td>\n",
              "      <td>NaN</td>\n",
              "      <td>NaN</td>\n",
              "      <td>NaN</td>\n",
              "      <td>NaN</td>\n",
              "      <td>NaN</td>\n",
              "      <td>NaN</td>\n",
              "      <td>NaN</td>\n",
              "      <td>NaN</td>\n",
              "      <td>NaN</td>\n",
              "      <td>NaN</td>\n",
              "      <td>NaN</td>\n",
              "      <td>NaN</td>\n",
              "      <td>NaN</td>\n",
              "      <td>NaN</td>\n",
              "      <td>NaN</td>\n",
              "      <td>NaN</td>\n",
              "      <td>NaN</td>\n",
              "      <td>NaN</td>\n",
              "      <td>NaN</td>\n",
              "      <td>NaN</td>\n",
              "      <td>NaN</td>\n",
              "      <td>NaN</td>\n",
              "      <td>NaN</td>\n",
              "      <td>NaN</td>\n",
              "      <td>NaN</td>\n",
              "      <td>NaN</td>\n",
              "      <td>chess</td>\n",
              "      <td>None</td>\n",
              "      <td>reading</td>\n",
              "      <td>None</td>\n",
              "      <td>None</td>\n",
              "      <td>None</td>\n",
              "      <td>None</td>\n",
              "      <td>NaN</td>\n",
              "      <td>NaN</td>\n",
              "      <td>NaN</td>\n",
              "      <td>NaN</td>\n",
              "      <td>NaN</td>\n",
              "      <td>NaN</td>\n",
              "      <td>NaN</td>\n",
              "      <td>NaN</td>\n",
              "      <td>NaN</td>\n",
              "      <td>NaN</td>\n",
              "      <td>NaN</td>\n",
              "      <td>NaN</td>\n",
              "    </tr>\n",
              "  </tbody>\n",
              "</table>\n",
              "</div>"
            ],
            "text/plain": [
              "                        Timestamp  ... grand_slams_3\n",
              "0  2021/02/26 8:32:30 pm GMT+5:30  ...           NaN\n",
              "1  2021/02/26 8:58:00 pm GMT+5:30  ...           NaN\n",
              "\n",
              "[2 rows x 63 columns]"
            ]
          },
          "metadata": {
            "tags": []
          },
          "execution_count": 82
        }
      ]
    },
    {
      "cell_type": "code",
      "metadata": {
        "id": "uh6OmVTxS5N5"
      },
      "source": [
        "data = pd.concat([data.drop(columns=[\"tv_sports_watch_0\"]), data[\"tv_sports_watch_0\"].str.split(';', expand=True)], axis=1)\n"
      ],
      "execution_count": 83,
      "outputs": []
    },
    {
      "cell_type": "code",
      "metadata": {
        "id": "S2ngE5zJTmS7"
      },
      "source": [
        "for i in range(4):\n",
        "  data.rename(columns={i:'tv_sports_watch_'+str(i+2)},inplace=True)"
      ],
      "execution_count": 84,
      "outputs": []
    },
    {
      "cell_type": "code",
      "metadata": {
        "id": "zsiKa93fTxUv"
      },
      "source": [
        "#identify the categorical columns\n",
        "cat_cols=[i for i in data.columns if data.dtypes[i]=='object']"
      ],
      "execution_count": 85,
      "outputs": []
    },
    {
      "cell_type": "code",
      "metadata": {
        "id": "qxABAd34U7nw"
      },
      "source": [
        "# convert all the categorical columns into lowercase for easier analysis\n",
        "for i in cat_cols:\n",
        "  data[i]=data[i].str.lower()"
      ],
      "execution_count": 86,
      "outputs": []
    },
    {
      "cell_type": "code",
      "metadata": {
        "id": "2JhIwBLGSMpr"
      },
      "source": [
        "#save the dataset so that it can be accessed easily next time\n",
        "data.to_csv('Edited_DataforSurvey.csv',index=False)"
      ],
      "execution_count": 87,
      "outputs": []
    },
    {
      "cell_type": "markdown",
      "metadata": {
        "id": "C7WN8iwwh0oK"
      },
      "source": [
        "ANALYSIS (Calculation of p_k values)\n"
      ]
    },
    {
      "cell_type": "code",
      "metadata": {
        "colab": {
          "base_uri": "https://localhost:8080/"
        },
        "id": "bTru72mShzSh",
        "outputId": "e9e7a2c7-f35f-417e-f94d-cb38c2d8acc6"
      },
      "source": [
        "data['How many Indian Premier League (IPL) matches do you watch in a season?'].unique()"
      ],
      "execution_count": 88,
      "outputs": [
        {
          "output_type": "execute_result",
          "data": {
            "text/plain": [
              "array([nan, 'less than 10', '11 to 30', 'i watch every single match',\n",
              "       '31 to 59'], dtype=object)"
            ]
          },
          "metadata": {
            "tags": []
          },
          "execution_count": 88
        }
      ]
    },
    {
      "cell_type": "code",
      "metadata": {
        "id": "7i74lwq_iKXZ"
      },
      "source": [
        "lis=list(data['How many Indian Premier League (IPL) matches do you watch in a season?'].unique())"
      ],
      "execution_count": 89,
      "outputs": []
    },
    {
      "cell_type": "code",
      "metadata": {
        "id": "1jDzBa37iRrQ"
      },
      "source": [
        "k=0\n",
        "data['IPL_MATCHES']=0\n",
        "avs=[0,5,20,60,40]\n",
        "for i in lis:\n",
        "  indices=np.where(data['How many Indian Premier League (IPL) matches do you watch in a season?']==i)[0]\n",
        "  for j in indices:\n",
        "    data.loc[j,'IPL_MATCHES']=avs[k]\n",
        "  k+=1\n",
        "\n",
        "\n"
      ],
      "execution_count": 90,
      "outputs": []
    },
    {
      "cell_type": "code",
      "metadata": {
        "colab": {
          "base_uri": "https://localhost:8080/"
        },
        "id": "i_2nuPkGj-3D",
        "outputId": "c8906f1b-373e-480e-8465-75717e2bade7"
      },
      "source": [
        "#p_k value for IPL\n",
        "((sum(data['IPL_MATCHES']))/60)/173"
      ],
      "execution_count": 91,
      "outputs": [
        {
          "output_type": "execute_result",
          "data": {
            "text/plain": [
              "0.3892100192678227"
            ]
          },
          "metadata": {
            "tags": []
          },
          "execution_count": 91
        }
      ]
    },
    {
      "cell_type": "code",
      "metadata": {
        "colab": {
          "base_uri": "https://localhost:8080/"
        },
        "id": "p8FzApd-k16A",
        "outputId": "f50295a7-b6ff-4aed-8fd5-e86c911b67d1"
      },
      "source": [
        "data['IPL_MATCHES'].describe()"
      ],
      "execution_count": 92,
      "outputs": [
        {
          "output_type": "execute_result",
          "data": {
            "text/plain": [
              "count    173.000000\n",
              "mean      23.352601\n",
              "std       20.931157\n",
              "min        0.000000\n",
              "25%        5.000000\n",
              "50%       20.000000\n",
              "75%       40.000000\n",
              "max       60.000000\n",
              "Name: IPL_MATCHES, dtype: float64"
            ]
          },
          "metadata": {
            "tags": []
          },
          "execution_count": 92
        }
      ]
    },
    {
      "cell_type": "code",
      "metadata": {
        "colab": {
          "base_uri": "https://localhost:8080/",
          "height": 338
        },
        "id": "VnEzAtFvmQxv",
        "outputId": "ed3e9a99-8e86-433e-ec0b-d13df5cdd67c"
      },
      "source": [
        "data.head(1)"
      ],
      "execution_count": 93,
      "outputs": [
        {
          "output_type": "execute_result",
          "data": {
            "text/html": [
              "<div>\n",
              "<style scoped>\n",
              "    .dataframe tbody tr th:only-of-type {\n",
              "        vertical-align: middle;\n",
              "    }\n",
              "\n",
              "    .dataframe tbody tr th {\n",
              "        vertical-align: top;\n",
              "    }\n",
              "\n",
              "    .dataframe thead th {\n",
              "        text-align: right;\n",
              "    }\n",
              "</style>\n",
              "<table border=\"1\" class=\"dataframe\">\n",
              "  <thead>\n",
              "    <tr style=\"text-align: right;\">\n",
              "      <th></th>\n",
              "      <th>Timestamp</th>\n",
              "      <th>What is your name?</th>\n",
              "      <th>Gender</th>\n",
              "      <th>Age</th>\n",
              "      <th>Education Level (Highest level pursued)</th>\n",
              "      <th>What is your profession?</th>\n",
              "      <th>How would you describe the place you live?</th>\n",
              "      <th>What is the time taken (in hours, approximately) for your daily commute between home and work?</th>\n",
              "      <th>What is the mode of your daily commute between home and work?</th>\n",
              "      <th>Are either of your parents from a sports background?</th>\n",
              "      <th>Do you have an older sibling(s) who is/are into sports ? (Play or follow passionately)</th>\n",
              "      <th>Have you played any sport professionally? (Atleast at an Inter-School level)</th>\n",
              "      <th>Is there at least one sports facility near the place you live?</th>\n",
              "      <th>How far is the given facility from the place you live?( Approximately in kilo meters)</th>\n",
              "      <th>Do you have any long-term health issues that have affected your participation in sports events?</th>\n",
              "      <th>How many Indian Premier League (IPL) matches do you watch in a season?</th>\n",
              "      <th>Do you watch international matches?</th>\n",
              "      <th>Do you watch international matches in which India do not participate?</th>\n",
              "      <th>How early in the Morning would you wake up for a cricket match?</th>\n",
              "      <th>How late in the Night would you stay up for a cricket match?</th>\n",
              "      <th>How much of Football do you watch generally? (Of the leagues you selected in the previous question)</th>\n",
              "      <th>How early in the Morning would you wake up for a football match?</th>\n",
              "      <th>How late in the Night would you stay up for a football match?</th>\n",
              "      <th>How much of Grand slam Tennis do you watch?</th>\n",
              "      <th>How early in the Morning would you wake up for a tennis match?</th>\n",
              "      <th>How late in the Night would you stay up for a tennis match?</th>\n",
              "      <th>Parents_0</th>\n",
              "      <th>Parents_1</th>\n",
              "      <th>Parents_2</th>\n",
              "      <th>Parents_3</th>\n",
              "      <th>Siblings_0</th>\n",
              "      <th>self_0</th>\n",
              "      <th>self_1</th>\n",
              "      <th>self_2</th>\n",
              "      <th>facility_0</th>\n",
              "      <th>facility_1</th>\n",
              "      <th>facility_2</th>\n",
              "      <th>facility_3</th>\n",
              "      <th>facility_4</th>\n",
              "      <th>facility_5</th>\n",
              "      <th>facility_6</th>\n",
              "      <th>facility_7</th>\n",
              "      <th>health_0</th>\n",
              "      <th>health_1</th>\n",
              "      <th>tv_sports_watch_1</th>\n",
              "      <th>hobbies_0</th>\n",
              "      <th>hobbies_1</th>\n",
              "      <th>hobbies_2</th>\n",
              "      <th>hobbies_3</th>\n",
              "      <th>hobbies_4</th>\n",
              "      <th>cricket_formats_0</th>\n",
              "      <th>cricket_formats_1</th>\n",
              "      <th>cricket_formats_2</th>\n",
              "      <th>football_leagues_0</th>\n",
              "      <th>football_leagues_1</th>\n",
              "      <th>football_leagues_2</th>\n",
              "      <th>football_leagues_3</th>\n",
              "      <th>football_leagues_4</th>\n",
              "      <th>grand_slams_0</th>\n",
              "      <th>grand_slams_1</th>\n",
              "      <th>grand_slams_2</th>\n",
              "      <th>grand_slams_3</th>\n",
              "      <th>tv_sports_watch_2</th>\n",
              "      <th>tv_sports_watch_3</th>\n",
              "      <th>tv_sports_watch_4</th>\n",
              "      <th>tv_sports_watch_5</th>\n",
              "      <th>IPL_MATCHES</th>\n",
              "    </tr>\n",
              "  </thead>\n",
              "  <tbody>\n",
              "    <tr>\n",
              "      <th>0</th>\n",
              "      <td>2021/02/26 8:32:30 pm gmt+5:30</td>\n",
              "      <td>martin</td>\n",
              "      <td>male</td>\n",
              "      <td>59.0</td>\n",
              "      <td>doctorate</td>\n",
              "      <td>teaching profession</td>\n",
              "      <td>metropolitan</td>\n",
              "      <td>1.0</td>\n",
              "      <td>own car, two-wheeler</td>\n",
              "      <td>yes</td>\n",
              "      <td>no</td>\n",
              "      <td>no</td>\n",
              "      <td>yes</td>\n",
              "      <td>0.0</td>\n",
              "      <td>yes</td>\n",
              "      <td>NaN</td>\n",
              "      <td>NaN</td>\n",
              "      <td>NaN</td>\n",
              "      <td>NaN</td>\n",
              "      <td>NaN</td>\n",
              "      <td>NaN</td>\n",
              "      <td>NaN</td>\n",
              "      <td>NaN</td>\n",
              "      <td>NaN</td>\n",
              "      <td>NaN</td>\n",
              "      <td>NaN</td>\n",
              "      <td>basketball</td>\n",
              "      <td>None</td>\n",
              "      <td>None</td>\n",
              "      <td>None</td>\n",
              "      <td>NaN</td>\n",
              "      <td>NaN</td>\n",
              "      <td>NaN</td>\n",
              "      <td>NaN</td>\n",
              "      <td>basketball</td>\n",
              "      <td>None</td>\n",
              "      <td>None</td>\n",
              "      <td>None</td>\n",
              "      <td>None</td>\n",
              "      <td>None</td>\n",
              "      <td>None</td>\n",
              "      <td>None</td>\n",
              "      <td>bronchitis</td>\n",
              "      <td>None</td>\n",
              "      <td>NaN</td>\n",
              "      <td>music</td>\n",
              "      <td>debates</td>\n",
              "      <td>None</td>\n",
              "      <td>None</td>\n",
              "      <td>None</td>\n",
              "      <td>NaN</td>\n",
              "      <td>NaN</td>\n",
              "      <td>NaN</td>\n",
              "      <td>NaN</td>\n",
              "      <td>NaN</td>\n",
              "      <td>NaN</td>\n",
              "      <td>NaN</td>\n",
              "      <td>NaN</td>\n",
              "      <td>NaN</td>\n",
              "      <td>NaN</td>\n",
              "      <td>NaN</td>\n",
              "      <td>NaN</td>\n",
              "      <td>NaN</td>\n",
              "      <td>NaN</td>\n",
              "      <td>NaN</td>\n",
              "      <td>NaN</td>\n",
              "      <td>0</td>\n",
              "    </tr>\n",
              "  </tbody>\n",
              "</table>\n",
              "</div>"
            ],
            "text/plain": [
              "                        Timestamp  ... IPL_MATCHES\n",
              "0  2021/02/26 8:32:30 pm gmt+5:30  ...           0\n",
              "\n",
              "[1 rows x 67 columns]"
            ]
          },
          "metadata": {
            "tags": []
          },
          "execution_count": 93
        }
      ]
    },
    {
      "cell_type": "code",
      "metadata": {
        "colab": {
          "base_uri": "https://localhost:8080/"
        },
        "id": "PsasG8rcoJe-",
        "outputId": "332a981d-9b78-46a3-ce5e-3993312ca730"
      },
      "source": [
        "data['cricket_formats_0'].unique()"
      ],
      "execution_count": 95,
      "outputs": [
        {
          "output_type": "execute_result",
          "data": {
            "text/plain": [
              "array([nan, 'test cricket', 'one day internationals', 't20s and t20is'],\n",
              "      dtype=object)"
            ]
          },
          "metadata": {
            "tags": []
          },
          "execution_count": 95
        }
      ]
    },
    {
      "cell_type": "code",
      "metadata": {
        "id": "o-sP0LeCnmQr"
      },
      "source": [
        "data['T20_Ind_Series']=0\n",
        "for i in range(len(data)):\n",
        "  vector=[data.loc[i,'cricket_formats_0'],data.loc[i,'cricket_formats_1'],data.loc[i,'cricket_formats_2']]\n",
        "  if 't20s and t20is'  in vector:\n",
        "    if data.loc[i,'Do you watch international matches?']=='yes':\n",
        "      data.loc[i,'T20_Ind_Series']=1"
      ],
      "execution_count": 96,
      "outputs": []
    },
    {
      "cell_type": "code",
      "metadata": {
        "colab": {
          "base_uri": "https://localhost:8080/"
        },
        "id": "crMH60oGpwCJ",
        "outputId": "1dbecbb4-d65d-4a31-ca3d-2f86dbf9984a"
      },
      "source": [
        "#the mean gives the p_k value \n",
        "data['T20_Ind_Series'].describe()"
      ],
      "execution_count": 97,
      "outputs": [
        {
          "output_type": "execute_result",
          "data": {
            "text/plain": [
              "count    173.000000\n",
              "mean       0.751445\n",
              "std        0.433430\n",
              "min        0.000000\n",
              "25%        1.000000\n",
              "50%        1.000000\n",
              "75%        1.000000\n",
              "max        1.000000\n",
              "Name: T20_Ind_Series, dtype: float64"
            ]
          },
          "metadata": {
            "tags": []
          },
          "execution_count": 97
        }
      ]
    },
    {
      "cell_type": "code",
      "metadata": {
        "id": "K64jbkACtLLu"
      },
      "source": [
        "data['Test_Ind_Series']=0\n",
        "for i in range(len(data)):\n",
        "  vector=[data.loc[i,'cricket_formats_0'],data.loc[i,'cricket_formats_1'],data.loc[i,'cricket_formats_2']]\n",
        "  if 'test cricket'  in vector:\n",
        "    if data.loc[i,'Do you watch international matches?']=='yes':\n",
        "      data.loc[i,'Test_Ind_Series']=1"
      ],
      "execution_count": 98,
      "outputs": []
    },
    {
      "cell_type": "code",
      "metadata": {
        "colab": {
          "base_uri": "https://localhost:8080/"
        },
        "id": "-e1QQLJdtdCo",
        "outputId": "801451c1-84d0-416a-cd71-3d66ac0d0c69"
      },
      "source": [
        "#the mean gives the p_k value\n",
        "data['Test_Ind_Series'].describe()"
      ],
      "execution_count": 99,
      "outputs": [
        {
          "output_type": "execute_result",
          "data": {
            "text/plain": [
              "count    173.000000\n",
              "mean       0.421965\n",
              "std        0.495307\n",
              "min        0.000000\n",
              "25%        0.000000\n",
              "50%        0.000000\n",
              "75%        1.000000\n",
              "max        1.000000\n",
              "Name: Test_Ind_Series, dtype: float64"
            ]
          },
          "metadata": {
            "tags": []
          },
          "execution_count": 99
        }
      ]
    },
    {
      "cell_type": "code",
      "metadata": {
        "id": "SPAAtDfxuBAI"
      },
      "source": [
        "data['ODI_Ind_Series']=0\n",
        "for i in range(len(data)):\n",
        "  vector=[data.loc[i,'cricket_formats_0'],data.loc[i,'cricket_formats_1'],data.loc[i,'cricket_formats_2']]\n",
        "  if 'one day internationals' in vector:\n",
        "    if data.loc[i,'Do you watch international matches?']=='yes':\n",
        "      data.loc[i,'ODI_Ind_Series']=1"
      ],
      "execution_count": 100,
      "outputs": []
    },
    {
      "cell_type": "code",
      "metadata": {
        "colab": {
          "base_uri": "https://localhost:8080/"
        },
        "id": "hEUpcur2uOlt",
        "outputId": "8d632688-5fed-485d-a17e-52f2e62ffd58"
      },
      "source": [
        "#the mean gives the p_k value\n",
        "data['ODI_Ind_Series'].describe()"
      ],
      "execution_count": 101,
      "outputs": [
        {
          "output_type": "execute_result",
          "data": {
            "text/plain": [
              "count    173.000000\n",
              "mean       0.641618\n",
              "std        0.480917\n",
              "min        0.000000\n",
              "25%        0.000000\n",
              "50%        1.000000\n",
              "75%        1.000000\n",
              "max        1.000000\n",
              "Name: ODI_Ind_Series, dtype: float64"
            ]
          },
          "metadata": {
            "tags": []
          },
          "execution_count": 101
        }
      ]
    },
    {
      "cell_type": "code",
      "metadata": {
        "colab": {
          "base_uri": "https://localhost:8080/"
        },
        "id": "Dmmb0pnovn2c",
        "outputId": "5116f7cd-aa4e-499c-92c1-c4a9c4a75f37"
      },
      "source": [
        "data['grand_slams_0'].unique()"
      ],
      "execution_count": 102,
      "outputs": [
        {
          "output_type": "execute_result",
          "data": {
            "text/plain": [
              "array([nan, 'australian open', 'us open', 'wimbledon', 'roland garros'],\n",
              "      dtype=object)"
            ]
          },
          "metadata": {
            "tags": []
          },
          "execution_count": 102
        }
      ]
    },
    {
      "cell_type": "code",
      "metadata": {
        "id": "AX4L18U4z-q4"
      },
      "source": [
        "#path='/content/Edited_DataforSurvey.csv'\n",
        "#data=pd.read_csv(path)"
      ],
      "execution_count": 103,
      "outputs": []
    },
    {
      "cell_type": "code",
      "metadata": {
        "colab": {
          "base_uri": "https://localhost:8080/"
        },
        "id": "TyhD0-LN0t0a",
        "outputId": "9e2af3c7-ad0f-496e-cc16-95f10c877bfb"
      },
      "source": [
        "data['How much of Grand slam Tennis do you watch?'].unique()"
      ],
      "execution_count": 104,
      "outputs": [
        {
          "output_type": "execute_result",
          "data": {
            "text/plain": [
              "array([nan,\n",
              "       'i do not watch any of the grand slams. i watch only atp 250/500/750/1000',\n",
              "       'whatever goes on when i turn to the channel.',\n",
              "       'only matches played by the top players.',\n",
              "       'only after the pre-quarter-final or quarterfinal stage'],\n",
              "      dtype=object)"
            ]
          },
          "metadata": {
            "tags": []
          },
          "execution_count": 104
        }
      ]
    },
    {
      "cell_type": "code",
      "metadata": {
        "colab": {
          "base_uri": "https://localhost:8080/"
        },
        "id": "FzCJPaO8vNkS",
        "outputId": "b613a494-bd08-42c3-dbdc-b43fdeb9ff4e"
      },
      "source": [
        "#obtain p_k values for each grand slam\n",
        "gslams=list(data['grand_slams_0'].unique())\n",
        "gslams.remove(np.nan)\n",
        "avs=[0,0,7,15,12]\n",
        "\n",
        "for k in gslams:\n",
        "\n",
        "\n",
        "\n",
        "  data[k]=0\n",
        "  for i in range(len(data)):\n",
        "    vector=[data.loc[i,'grand_slams_0'],data.loc[i,'grand_slams_1'],data.loc[i,'grand_slams_2']]\n",
        "    if k in vector:\n",
        "      m=0\n",
        "      for j in list(data['How much of Grand slam Tennis do you watch?'].unique()):\n",
        "        if data.loc[i,'How much of Grand slam Tennis do you watch?']==j:\n",
        "          data.loc[i,k]=avs[m]\n",
        "        m+=1\n",
        "  print(k,' : ',np.mean(data[k])/50)"
      ],
      "execution_count": 105,
      "outputs": [
        {
          "output_type": "stream",
          "text": [
            "australian open  :  0.053757225433526006\n",
            "us open  :  0.03803468208092486\n",
            "wimbledon  :  0.07144508670520232\n",
            "roland garros  :  0.02601156069364162\n"
          ],
          "name": "stdout"
        }
      ]
    },
    {
      "cell_type": "code",
      "metadata": {
        "colab": {
          "base_uri": "https://localhost:8080/"
        },
        "id": "nS-aFnBi6O4I",
        "outputId": "aa168a9b-d66c-438c-877d-f792a696ee09"
      },
      "source": [
        "data['football_leagues_0'].unique()"
      ],
      "execution_count": 106,
      "outputs": [
        {
          "output_type": "execute_result",
          "data": {
            "text/plain": [
              "array([nan, 'premier league', 'bundesliga', 'none', 'laliga',\n",
              "       'indian super league', 'seriea', 'i dont follow',\n",
              "       'none of the above', 'pro kabaddi', 'i wish i could'], dtype=object)"
            ]
          },
          "metadata": {
            "tags": []
          },
          "execution_count": 106
        }
      ]
    },
    {
      "cell_type": "code",
      "metadata": {
        "colab": {
          "base_uri": "https://localhost:8080/"
        },
        "id": "o659ZRno6-PV",
        "outputId": "4f444c46-5469-4616-9010-ca7e93787a77"
      },
      "source": [
        "data['How much of Football do you watch generally? (Of the leagues you selected in the previous question)'].unique()"
      ],
      "execution_count": 107,
      "outputs": [
        {
          "output_type": "execute_result",
          "data": {
            "text/plain": [
              "array([nan, 'only matches featuring at least one reputed club/player.',\n",
              "       'i do not watch club football at all/ i watch only the uefa champions league.',\n",
              "       'one or two matches each week', 'every single match every week.'],\n",
              "      dtype=object)"
            ]
          },
          "metadata": {
            "tags": []
          },
          "execution_count": 107
        }
      ]
    },
    {
      "cell_type": "code",
      "metadata": {
        "colab": {
          "base_uri": "https://localhost:8080/",
          "height": 350
        },
        "id": "v1FdSml78X4-",
        "outputId": "8b258b16-28aa-4d5f-b9bc-12bfe249c9ef"
      },
      "source": [
        "sns.countplot(data['How much of Football do you watch generally? (Of the leagues you selected in the previous question)'])"
      ],
      "execution_count": 108,
      "outputs": [
        {
          "output_type": "stream",
          "text": [
            "/usr/local/lib/python3.7/dist-packages/seaborn/_decorators.py:43: FutureWarning: Pass the following variable as a keyword arg: x. From version 0.12, the only valid positional argument will be `data`, and passing other arguments without an explicit keyword will result in an error or misinterpretation.\n",
            "  FutureWarning\n"
          ],
          "name": "stderr"
        },
        {
          "output_type": "execute_result",
          "data": {
            "text/plain": [
              "<matplotlib.axes._subplots.AxesSubplot at 0x7fdae4cb0050>"
            ]
          },
          "metadata": {
            "tags": []
          },
          "execution_count": 108
        },
        {
          "output_type": "display_data",
          "data": {
            "image/png": "[encoded data removed]",
            "text/plain": [
              "<Figure size 432x288 with 1 Axes>"
            ]
          },
          "metadata": {
            "tags": [],
            "needs_background": "light"
          }
        }
      ]
    },
    {
      "cell_type": "code",
      "metadata": {
        "colab": {
          "base_uri": "https://localhost:8080/"
        },
        "id": "CxAy5W7r6BWS",
        "outputId": "0096baed-77b5-4953-e254-2f079e6db3e1"
      },
      "source": [
        "#obtain p_k values for football leagues\n",
        "leagues=['premier league','laliga','seriea','bundesliga']\n",
        "avs=[0,30,0,60,300]\n",
        "l=[380,380,380,306]\n",
        "li=0\n",
        "\n",
        "for k in leagues:\n",
        "  lval=l[li]\n",
        "\n",
        "\n",
        "\n",
        "  data[k]=0\n",
        "  for i in range(len(data)):\n",
        "    vector=[data.loc[i,'football_leagues_0'],data.loc[i,'football_leagues_1'],data.loc[i,'football_leagues_2']]\n",
        "    if k in vector:\n",
        "      m=0\n",
        "      for j in list(data['How much of Football do you watch generally? (Of the leagues you selected in the previous question)'].unique()):\n",
        "        if data.loc[i,'How much of Football do you watch generally? (Of the leagues you selected in the previous question)']==j:\n",
        "          data.loc[i,k]=avs[m]\n",
        "        m+=1\n",
        "  li+=1\n",
        "  print(k,' : ',np.mean(data[k])/lval)"
      ],
      "execution_count": 109,
      "outputs": [
        {
          "output_type": "stream",
          "text": [
            "premier league  :  0.03787648311530271\n",
            "laliga  :  0.028293276543961056\n",
            "seriea  :  0.01597201095223608\n",
            "bundesliga  :  0.007933809361895047\n"
          ],
          "name": "stdout"
        }
      ]
    }
  ]
}